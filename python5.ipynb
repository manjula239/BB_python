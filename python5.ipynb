{
 "cells": [
  {
   "cell_type": "markdown",
   "id": "0f45c15d",
   "metadata": {},
   "source": [
    "# How to create a string in Python"
   ]
  },
  {
   "cell_type": "code",
   "execution_count": 6,
   "id": "0559a58b",
   "metadata": {},
   "outputs": [],
   "source": [
    "string_1=\"Let's learn Python\""
   ]
  },
  {
   "cell_type": "code",
   "execution_count": null,
   "id": "6ce54a86",
   "metadata": {},
   "outputs": [],
   "source": [
    "string_2_corr=\"Let's learn Python\""
   ]
  },
  {
   "cell_type": "code",
   "execution_count": null,
   "id": "f543147b",
   "metadata": {},
   "outputs": [],
   "source": [
    "string_2_corr=\"Let's learn Python\""
   ]
  },
  {
   "cell_type": "code",
   "execution_count": null,
   "id": "e315f33a",
   "metadata": {},
   "outputs": [],
   "source": [
    "string_2_alt='Let\\'s learn Python'\n"
   ]
  },
  {
   "cell_type": "code",
   "execution_count": 10,
   "id": "9633d0d8",
   "metadata": {},
   "outputs": [],
   "source": [
    "string_3=\"\"\"The Battle of Heraklion was fought during World War II on the island of Crete between 20 and 29 May 1941. British, Australian and Greek forces defended the port and the airfield of Heraklion against a German paratrooper attack. The German assault was launched without direct air support, and drops occurred over several hours rather than simultaneously. German units dropping near Heraklion (pictured) suffered very high casualties; those dropping further away were severely hampered by Cretan partisans. The German attack failed. When it was renewed the next day it failed again. The fighting then settled into a stalemate. A convoy of German seaborne reinforcements was intercepted by a British naval squadron and scattered. The Germans refocused on the battle for Maleme airfield, which they won, causing the Allies to evacuate. Commonwealth troops were taken off Crete by Allied warships on the night of 28/29 May; at sea, two Allied destroyers were sunk and two cruisers badly damaged, causing many casualties. that Anne Hatchard (pictured) was voted best on ground at the 2022 AFL Women's Grand Final?\n",
    "that merchant trader Constantine Zochonis expanded his company Paterson Zochonis into the Gold Coast in the 1930s?\n",
    "that in 1973, Caroline Rose Foster donated her farm Fosterfields to the Parks Commission of Morris County, New Jersey to be preserved as a functioning farm from 1920... that the British film Strippers vs Werewolves opens with a different band playing the song \"Hungry Like the Wolf\" by Duran Duran?that Indian gynaecologist and reproductive medicine pioneer Baidyanath Chakrabarty, who performed over 4,000 IVF procedures, was a cricket fan who thought Virat Kohli and Ashwin were \"such good boys\"?\n",
    "that Yuki Fumino\\'s relationships with hearing-impaired friends and acquaintances inspired her to create I Hear the Sunspot?\n",
    "that at the age of 26, Lucy Moss became the youngest female director of a Broadway musical before directing a TikTok musical that raised $2 million?\n",
    "that Aroha Bridge changed its name from Hook Ups because fans searching for the string.\"\"\""
   ]
  },
  {
   "cell_type": "code",
   "execution_count": 7,
   "id": "6e02f71b",
   "metadata": {},
   "outputs": [
    {
     "ename": "NameError",
     "evalue": "name 'string_3' is not defined",
     "output_type": "error",
     "traceback": [
      "\u001b[1;31m---------------------------------------------------------------------------\u001b[0m",
      "\u001b[1;31mNameError\u001b[0m                                 Traceback (most recent call last)",
      "Input \u001b[1;32mIn [7]\u001b[0m, in \u001b[0;36m<cell line: 1>\u001b[1;34m()\u001b[0m\n\u001b[1;32m----> 1\u001b[0m \u001b[43mstring_3\u001b[49m\n",
      "\u001b[1;31mNameError\u001b[0m: name 'string_3' is not defined"
     ]
    }
   ],
   "source": [
    "string_3"
   ]
  },
  {
   "cell_type": "markdown",
   "id": "7062b1a5",
   "metadata": {},
   "source": [
    "string concatenation"
   ]
  },
  {
   "cell_type": "code",
   "execution_count": 11,
   "id": "1fdf022d",
   "metadata": {},
   "outputs": [],
   "source": [
    "string_1=\"I'm a Data Scientist\"\n",
    "string_2=\"You will become ML Engineers\""
   ]
  },
  {
   "cell_type": "code",
   "execution_count": 12,
   "id": "2f3e3a2f",
   "metadata": {},
   "outputs": [
    {
     "data": {
      "text/plain": [
       "\"I'm a Data ScientistYou will become ML Engineers\""
      ]
     },
     "execution_count": 12,
     "metadata": {},
     "output_type": "execute_result"
    }
   ],
   "source": [
    "string_concat=string_1+string_2\n",
    "string_concat\n"
   ]
  },
  {
   "cell_type": "code",
   "execution_count": 13,
   "id": "23f90fac",
   "metadata": {},
   "outputs": [
    {
     "ename": "TypeError",
     "evalue": "can only concatenate str (not \"int\") to str",
     "output_type": "error",
     "traceback": [
      "\u001b[1;31m---------------------------------------------------------------------------\u001b[0m",
      "\u001b[1;31mTypeError\u001b[0m                                 Traceback (most recent call last)",
      "Input \u001b[1;32mIn [13]\u001b[0m, in \u001b[0;36m<cell line: 3>\u001b[1;34m()\u001b[0m\n\u001b[0;32m      1\u001b[0m string\u001b[38;5;241m=\u001b[39m\u001b[38;5;124m\"\u001b[39m\u001b[38;5;124mHi AI Researchers\u001b[39m\u001b[38;5;124m\"\u001b[39m\n\u001b[0;32m      2\u001b[0m string_1\u001b[38;5;241m=\u001b[39m\u001b[38;5;241m58\u001b[39m\n\u001b[1;32m----> 3\u001b[0m strin_concat\u001b[38;5;241m=\u001b[39m\u001b[43mstring\u001b[49m\u001b[38;5;241;43m+\u001b[39;49m\u001b[43mstring_1\u001b[49m\n",
      "\u001b[1;31mTypeError\u001b[0m: can only concatenate str (not \"int\") to str"
     ]
    }
   ],
   "source": [
    "string=\"Hi AI Researchers\"\n",
    "string_1=58\n",
    "strin_concat=string+string_1\n"
   ]
  },
  {
   "cell_type": "markdown",
   "id": "6c00c511",
   "metadata": {},
   "source": [
    "# String Replication"
   ]
  },
  {
   "cell_type": "code",
   "execution_count": 15,
   "id": "65ea8af7",
   "metadata": {},
   "outputs": [
    {
     "data": {
      "text/plain": [
       "'Good Evening Good Evening Good Evening Good Evening Good Evening '"
      ]
     },
     "execution_count": 15,
     "metadata": {},
     "output_type": "execute_result"
    }
   ],
   "source": [
    "'Good Evening ' *5\n"
   ]
  },
  {
   "cell_type": "code",
   "execution_count": 16,
   "id": "faf1e55e",
   "metadata": {},
   "outputs": [
    {
     "data": {
      "text/plain": [
       "'Have a nice day Have a nice day Have a nice day Have a nice day Have a nice day Have a nice day Have a nice day Have a nice day Have a nice day Have a nice day '"
      ]
     },
     "execution_count": 16,
     "metadata": {},
     "output_type": "execute_result"
    }
   ],
   "source": [
    "\"Have a nice day \" *10\n"
   ]
  },
  {
   "cell_type": "code",
   "execution_count": 20,
   "id": "893d1c59",
   "metadata": {},
   "outputs": [
    {
     "name": "stdout",
     "output_type": "stream",
     "text": [
      "Happy birthday to you\n",
      "Happy birthday to you\n",
      "Happy birthday to you\n",
      "Happy birthday to you Dear learner\n",
      "Happy birthdayHappy birthdayHappy birthdayHappy birthdayHappy birthday\n"
     ]
    }
   ],
   "source": [
    "print(\"Happy birthday to you\\n\"*3+\"Happy birthday to you Dear learner\\n\"+\"Happy birthday\"*5)"
   ]
  },
  {
   "cell_type": "markdown",
   "id": "f1364b0b",
   "metadata": {},
   "source": [
    "### input()function"
   ]
  },
  {
   "cell_type": "code",
   "execution_count": 21,
   "id": "864bd230",
   "metadata": {},
   "outputs": [
    {
     "name": "stdout",
     "output_type": "stream",
     "text": [
      "Hi!What's your name?manju\n",
      "Nice to meet youmanju!\n"
     ]
    }
   ],
   "source": [
    "name=input(\"Hi!What's your name?\")\n",
    "print(\"Nice to meet you\" +name+\"!\")\n"
   ]
  },
  {
   "cell_type": "code",
   "execution_count": 22,
   "id": "92956255",
   "metadata": {},
   "outputs": [
    {
     "name": "stdout",
     "output_type": "stream",
     "text": [
      "How old are you?19\n",
      "so you are already 19 years old Eesa!\n"
     ]
    }
   ],
   "source": [
    "str=input(\"How old are you?\")\n",
    "print(\"so you are already \"+str+\" years old Eesa!\")\n"
   ]
  },
  {
   "cell_type": "markdown",
   "id": "603cc7a9",
   "metadata": {},
   "source": [
    "###  len function\n",
    "\n",
    " "
   ]
  },
  {
   "cell_type": "code",
   "execution_count": 23,
   "id": "9b283399",
   "metadata": {},
   "outputs": [
    {
     "name": "stdout",
     "output_type": "stream",
     "text": [
      "The length of the string is: 33\n"
     ]
    }
   ],
   "source": [
    "str=\"Hope you are enjoying my session!\"\n",
    "print(\"The length of the string is:\",len(str))\n"
   ]
  },
  {
   "cell_type": "markdown",
   "id": "4d840780",
   "metadata": {},
   "source": [
    "## filter"
   ]
  },
  {
   "cell_type": "code",
   "execution_count": 25,
   "id": "8c199610",
   "metadata": {},
   "outputs": [],
   "source": [
    "ages=[25,22,63,19,4,6,12]\n",
    "def myfunc(x):\n",
    "    if x<18:\n",
    "        return False\n",
    "    else:\n",
    "        return True\n"
   ]
  },
  {
   "cell_type": "code",
   "execution_count": 26,
   "id": "8551945a",
   "metadata": {},
   "outputs": [
    {
     "name": "stdout",
     "output_type": "stream",
     "text": [
      "25\n",
      "22\n",
      "63\n",
      "19\n"
     ]
    }
   ],
   "source": [
    "adults=filter(myfunc,ages)\n",
    "for x in adults:\n",
    "        print(x)"
   ]
  },
  {
   "cell_type": "code",
   "execution_count": 27,
   "id": "6f0d40fc",
   "metadata": {},
   "outputs": [
    {
     "name": "stdout",
     "output_type": "stream",
     "text": [
      "2\n",
      "4\n",
      "6\n",
      "32\n",
      "16\n"
     ]
    }
   ],
   "source": [
    "num=[2,4,6,15,19,32,16]\n",
    "def fun(x):\n",
    "    if x%2==0:\n",
    "      return True\n",
    "    else:\n",
    "      return False\n",
    "even=filter(fun,num)\n",
    "for x in even:\n",
    "    print(x)"
   ]
  },
  {
   "cell_type": "code",
   "execution_count": 28,
   "id": "bad9115c",
   "metadata": {},
   "outputs": [
    {
     "name": "stdout",
     "output_type": "stream",
     "text": [
      "2\n",
      "4\n",
      "6\n",
      "32\n",
      "16\n"
     ]
    }
   ],
   "source": [
    "ages=[2,4,6,15,19,32,16]\n",
    "def even(x):\n",
    "  if x%2==0:\n",
    "    return True\n",
    "  else:\n",
    "    return False\n",
    "evens=filter(even,ages)\n",
    "for x in evens:\n",
    "  print(x)\n"
   ]
  },
  {
   "cell_type": "markdown",
   "id": "afb04817",
   "metadata": {},
   "source": [
    "### Function"
   ]
  },
  {
   "cell_type": "markdown",
   "id": "9c17dfc9",
   "metadata": {},
   "source": [
    "##### Block of coded instructions that performs action.\n",
    "##### def -keyword followed by a function name():"
   ]
  },
  {
   "cell_type": "code",
   "execution_count": 29,
   "id": "d20e1920",
   "metadata": {},
   "outputs": [
    {
     "name": "stdout",
     "output_type": "stream",
     "text": [
      "Welcome to the Session!\n"
     ]
    }
   ],
   "source": [
    "def name():\n",
    "    print(\"Welcome to the Session!\")\n",
    "name()"
   ]
  },
  {
   "cell_type": "code",
   "execution_count": 30,
   "id": "54561a6c",
   "metadata": {},
   "outputs": [
    {
     "name": "stdout",
     "output_type": "stream",
     "text": [
      "Hi\n"
     ]
    }
   ],
   "source": [
    "def name():\n",
    "    print(\"Hi\")\n",
    "name()"
   ]
  },
  {
   "cell_type": "code",
   "execution_count": 31,
   "id": "5fc2f4a0",
   "metadata": {},
   "outputs": [
    {
     "name": "stdout",
     "output_type": "stream",
     "text": [
      "3 4 5\n"
     ]
    }
   ],
   "source": [
    "def addition(x,y,z):\n",
    "    a=x+y\n",
    "    b=x+z\n",
    "    c=y+z\n",
    "    print(a,b,c)\n",
    "addition(1,2,3)"
   ]
  },
  {
   "cell_type": "code",
   "execution_count": 32,
   "id": "f567d168",
   "metadata": {},
   "outputs": [
    {
     "name": "stdout",
     "output_type": "stream",
     "text": [
      "Product Name:  T-shirt:\n",
      "Price:  15\n",
      "Product Name:  Jeans\n",
      "Price:  45\n"
     ]
    }
   ],
   "source": [
    "def product_info(product_name,price):\n",
    "    print(\"Product Name: \",product_name)\n",
    "    print(\"Price: \",price)\n",
    "product_info(\"T-shirt:\",15)\n",
    "product_info(product_name=\"Jeans\",price=45)"
   ]
  },
  {
   "cell_type": "code",
   "execution_count": 33,
   "id": "f1789e06",
   "metadata": {},
   "outputs": [
    {
     "name": "stdout",
     "output_type": "stream",
     "text": [
      "freezing point of water in K: 274\n"
     ]
    }
   ],
   "source": [
    "def celsius_to_kelvin(temp_cel):\n",
    "    return temp_cel +273\n",
    "print(\"freezing point of water in K:\",celsius_to_kelvin(1))"
   ]
  },
  {
   "cell_type": "code",
   "execution_count": 34,
   "id": "39fcee17",
   "metadata": {},
   "outputs": [
    {
     "name": "stdout",
     "output_type": "stream",
     "text": [
      "product Name laddu:\n",
      "type: sweet\n"
     ]
    }
   ],
   "source": [
    "def product_info(product_name,type):\n",
    "    print(\"product Name\",product_name)\n",
    "    print(\"type:\",type)\n",
    "product_info(\"laddu:\",\"sweet\")"
   ]
  },
  {
   "cell_type": "markdown",
   "id": "0769461a",
   "metadata": {},
   "source": [
    "### List"
   ]
  },
  {
   "cell_type": "code",
   "execution_count": 35,
   "id": "62bc8889",
   "metadata": {},
   "outputs": [],
   "source": [
    "my_list_1=[1,2,3,4,5]\n",
    "my_list_2=[\"a\",\"e\",\"i\",\"o\",\"u\"]\n",
    "my_list_3=[1,\"hi\",True,\"AI\"]"
   ]
  },
  {
   "cell_type": "code",
   "execution_count": 36,
   "id": "68142dfe",
   "metadata": {},
   "outputs": [
    {
     "data": {
      "text/plain": [
       "[1, 'hi', True, 'AI']"
      ]
     },
     "execution_count": 36,
     "metadata": {},
     "output_type": "execute_result"
    }
   ],
   "source": [
    "my_list_3"
   ]
  },
  {
   "cell_type": "markdown",
   "id": "bc952d86",
   "metadata": {},
   "source": [
    "#### List is heterogenous-because it allows multiple data types"
   ]
  },
  {
   "cell_type": "code",
   "execution_count": 37,
   "id": "2e98bcc9",
   "metadata": {},
   "outputs": [
    {
     "data": {
      "text/plain": [
       "1"
      ]
     },
     "execution_count": 37,
     "metadata": {},
     "output_type": "execute_result"
    }
   ],
   "source": [
    "my_list_1[0]"
   ]
  },
  {
   "cell_type": "code",
   "execution_count": 38,
   "id": "a5a0f5ce",
   "metadata": {},
   "outputs": [
    {
     "data": {
      "text/plain": [
       "True"
      ]
     },
     "execution_count": 38,
     "metadata": {},
     "output_type": "execute_result"
    }
   ],
   "source": [
    "my_list_3[2]"
   ]
  },
  {
   "cell_type": "markdown",
   "id": "a5c98332",
   "metadata": {},
   "source": [
    "#### we can retrive the elements using index.Index starts from zero"
   ]
  },
  {
   "cell_type": "code",
   "execution_count": 40,
   "id": "38b2a9be",
   "metadata": {},
   "outputs": [
    {
     "data": {
      "text/plain": [
       "[1, 2, 10, 4, 5]"
      ]
     },
     "execution_count": 40,
     "metadata": {},
     "output_type": "execute_result"
    }
   ],
   "source": [
    "my_list_1[2]=10\n",
    "my_list_1"
   ]
  },
  {
   "cell_type": "markdown",
   "id": "e9a05db2",
   "metadata": {},
   "source": [
    "### Mutable-Make changes"
   ]
  },
  {
   "cell_type": "markdown",
   "id": "9903dd6d",
   "metadata": {},
   "source": [
    "##### we can make changable"
   ]
  },
  {
   "cell_type": "code",
   "execution_count": 42,
   "id": "c561a575",
   "metadata": {},
   "outputs": [
    {
     "data": {
      "text/plain": [
       "[1, 2, 14, 4, 5]"
      ]
     },
     "execution_count": 42,
     "metadata": {},
     "output_type": "execute_result"
    }
   ],
   "source": [
    "my_list_1[2]=14\n",
    "my_list_1"
   ]
  }
 ],
 "metadata": {
  "kernelspec": {
   "display_name": "Python 3 (ipykernel)",
   "language": "python",
   "name": "python3"
  },
  "language_info": {
   "codemirror_mode": {
    "name": "ipython",
    "version": 3
   },
   "file_extension": ".py",
   "mimetype": "text/x-python",
   "name": "python",
   "nbconvert_exporter": "python",
   "pygments_lexer": "ipython3",
   "version": "3.9.12"
  }
 },
 "nbformat": 4,
 "nbformat_minor": 5
}
