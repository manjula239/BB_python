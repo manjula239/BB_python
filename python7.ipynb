{
 "cells": [
  {
   "cell_type": "markdown",
   "id": "96b16c0d",
   "metadata": {},
   "source": [
    "## Functions-A block of reusable code that runs when called"
   ]
  },
  {
   "cell_type": "markdown",
   "id": "b512a9b2",
   "metadata": {},
   "source": [
    "### Built-in\n",
    "### User defined\n",
    "### Lambda"
   ]
  },
  {
   "cell_type": "markdown",
   "id": "d47b5d1a",
   "metadata": {},
   "source": [
    "## Built-in"
   ]
  },
  {
   "cell_type": "code",
   "execution_count": 1,
   "id": "cce85a08",
   "metadata": {},
   "outputs": [
    {
     "name": "stdout",
     "output_type": "stream",
     "text": [
      "Hello:Welcome to the session\n"
     ]
    }
   ],
   "source": [
    "print(\"Hello\",\"Welcome to the session\",sep=':')"
   ]
  },
  {
   "cell_type": "code",
   "execution_count": 2,
   "id": "367910b3",
   "metadata": {},
   "outputs": [
    {
     "name": "stdout",
     "output_type": "stream",
     "text": [
      "Python is fun\n"
     ]
    }
   ],
   "source": [
    "print(\"Python \" + \"is fun\")"
   ]
  },
  {
   "cell_type": "code",
   "execution_count": 3,
   "id": "a3bea542",
   "metadata": {},
   "outputs": [
    {
     "ename": "TypeError",
     "evalue": "can only concatenate str (not \"int\") to str",
     "output_type": "error",
     "traceback": [
      "\u001b[1;31m---------------------------------------------------------------------------\u001b[0m",
      "\u001b[1;31mTypeError\u001b[0m                                 Traceback (most recent call last)",
      "Input \u001b[1;32mIn [3]\u001b[0m, in \u001b[0;36m<cell line: 1>\u001b[1;34m()\u001b[0m\n\u001b[1;32m----> 1\u001b[0m \u001b[38;5;28mprint\u001b[39m(\u001b[38;5;124;43m\"\u001b[39;49m\u001b[38;5;124;43mMy phone number is\u001b[39;49m\u001b[38;5;124;43m\"\u001b[39;49m\u001b[38;5;241;43m+\u001b[39;49m\u001b[43m \u001b[49m\u001b[38;5;241;43m90000000\u001b[39;49m)\n",
      "\u001b[1;31mTypeError\u001b[0m: can only concatenate str (not \"int\") to str"
     ]
    }
   ],
   "source": [
    "print(\"My phone number is\"+ 90000000)"
   ]
  },
  {
   "cell_type": "code",
   "execution_count": 4,
   "id": "5f6d9032",
   "metadata": {},
   "outputs": [
    {
     "name": "stdout",
     "output_type": "stream",
     "text": [
      "My phone number is 90000000\n"
     ]
    }
   ],
   "source": [
    "print(\"My phone number is \"+ str(90000000))"
   ]
  },
  {
   "cell_type": "code",
   "execution_count": 5,
   "id": "60cfe298",
   "metadata": {},
   "outputs": [
    {
     "name": "stdout",
     "output_type": "stream",
     "text": [
      "Hello and Welcome to the session\n"
     ]
    }
   ],
   "source": [
    "### User Defined\n",
    "def greet():\n",
    "    print(\"Hello and Welcome to the session\")\n",
    "greet()"
   ]
  },
  {
   "cell_type": "code",
   "execution_count": 6,
   "id": "d7244e15",
   "metadata": {},
   "outputs": [
    {
     "name": "stdout",
     "output_type": "stream",
     "text": [
      "Enter your name:manju\n",
      "Hello manju Welcome to the session\n"
     ]
    }
   ],
   "source": [
    "def greet(name):\n",
    "    print(\"Hello\",name,\"Welcome to the session\")\n",
    "person_name=input(\"Enter your name:\")\n",
    "greet(person_name)"
   ]
  },
  {
   "cell_type": "code",
   "execution_count": 7,
   "id": "2102ea73",
   "metadata": {},
   "outputs": [
    {
     "name": "stdout",
     "output_type": "stream",
     "text": [
      "66\n"
     ]
    }
   ],
   "source": [
    "def addition(num1,num2):\n",
    "    add=num1+num2\n",
    "    return(add)\n",
    "summation=addition(45,21)\n",
    "print(summation)"
   ]
  },
  {
   "cell_type": "code",
   "execution_count": 9,
   "id": "0c570953",
   "metadata": {},
   "outputs": [
    {
     "data": {
      "text/plain": [
       "25.0"
      ]
     },
     "execution_count": 9,
     "metadata": {},
     "output_type": "execute_result"
    }
   ],
   "source": [
    "def area_of_triangle(base,height):\n",
    "    return(0.5*base*height)\n",
    "\n",
    "area_of_triangle(5,10)"
   ]
  },
  {
   "cell_type": "code",
   "execution_count": 10,
   "id": "478718ca",
   "metadata": {},
   "outputs": [
    {
     "name": "stdout",
     "output_type": "stream",
     "text": [
      "Hello and welcome\n"
     ]
    }
   ],
   "source": [
    "def greet():\n",
    "    print(\"Hello and welcome\")\n",
    "greet()"
   ]
  },
  {
   "cell_type": "code",
   "execution_count": 11,
   "id": "dafac7a4",
   "metadata": {},
   "outputs": [
    {
     "name": "stdout",
     "output_type": "stream",
     "text": [
      "Hello\n",
      "Welcome\n"
     ]
    }
   ],
   "source": [
    "def hello_and_welcome():\n",
    "    print(\"Hello\")\n",
    "    print(\"Welcome\")\n",
    "hello_and_welcome()"
   ]
  },
  {
   "cell_type": "code",
   "execution_count": 15,
   "id": "41308a94",
   "metadata": {},
   "outputs": [
    {
     "name": "stdout",
     "output_type": "stream",
     "text": [
      "Enter your name:manju\n",
      "Hello manju Welcome to the Session\n"
     ]
    }
   ],
   "source": [
    "def greet(name):\n",
    "    print(\"Hello\",name,\"Welcome to the Session\")\n",
    "person_name=input(\"Enter your name:\")\n",
    "greet(person_name)"
   ]
  },
  {
   "cell_type": "code",
   "execution_count": 16,
   "id": "1ab09fa0",
   "metadata": {},
   "outputs": [
    {
     "name": "stdout",
     "output_type": "stream",
     "text": [
      "25\n"
     ]
    }
   ],
   "source": [
    "def addition(num1,num2):\n",
    "    add=num1+num2\n",
    "    return(add)\n",
    "\n",
    "sum=addition(12,13)\n",
    "print(sum)"
   ]
  },
  {
   "cell_type": "code",
   "execution_count": 18,
   "id": "1ed07d8f",
   "metadata": {},
   "outputs": [
    {
     "name": "stdout",
     "output_type": "stream",
     "text": [
      "25\n",
      "11\n"
     ]
    }
   ],
   "source": [
    "def addition(num1,num2):\n",
    "    add=num1+num2\n",
    "    return(add)\n",
    "sum=addition(12,13)\n",
    "print(sum)\n",
    "\n",
    "x=lambda a,b,c:a+b+c\n",
    "print(x(5,4,2))"
   ]
  },
  {
   "cell_type": "code",
   "execution_count": null,
   "id": "472c1f39",
   "metadata": {},
   "outputs": [],
   "source": [
    "def addition(num1,num2):\n",
    "    num1 = float(input(\"Enter the Number 1 \"))\n",
    "    num2 = float(input(\"Enter the Number 2 \"))\n",
    "    add = num1 + num2\n",
    "    return(add)\n",
    "\n",
    "addition(num1,num2)"
   ]
  },
  {
   "cell_type": "code",
   "execution_count": 23,
   "id": "e57d7b91",
   "metadata": {},
   "outputs": [
    {
     "name": "stdout",
     "output_type": "stream",
     "text": [
      "First argument is: 10\n",
      "Second argument is: 2\n"
     ]
    }
   ],
   "source": [
    "### Passing Arguments\n",
    "\n",
    "def addition(num1,num2):\n",
    "    print(\"First argument is:\",num1)\n",
    "    print(\"Second argument is:\",num2)\n",
    "num1=2\n",
    "num2=10\n",
    "addition(num2,num1)"
   ]
  },
  {
   "cell_type": "markdown",
   "id": "a586cfee",
   "metadata": {},
   "source": [
    "## Lambda Function"
   ]
  },
  {
   "cell_type": "code",
   "execution_count": 24,
   "id": "6068aaef",
   "metadata": {},
   "outputs": [
    {
     "data": {
      "text/plain": [
       "<function __main__.<lambda>(arguments)>"
      ]
     },
     "execution_count": 24,
     "metadata": {},
     "output_type": "execute_result"
    }
   ],
   "source": [
    "lambda arguments:expression"
   ]
  },
  {
   "cell_type": "code",
   "execution_count": 25,
   "id": "21843890",
   "metadata": {},
   "outputs": [
    {
     "name": "stdout",
     "output_type": "stream",
     "text": [
      "3\n"
     ]
    }
   ],
   "source": [
    "x=lambda a:a+1\n",
    "print(x(2))"
   ]
  },
  {
   "cell_type": "code",
   "execution_count": 26,
   "id": "7a8be0c0",
   "metadata": {},
   "outputs": [
    {
     "name": "stdout",
     "output_type": "stream",
     "text": [
      "31\n"
     ]
    }
   ],
   "source": [
    "x=lambda a,b,c:a*b+c\n",
    "print(x(5,6,1))"
   ]
  },
  {
   "cell_type": "code",
   "execution_count": 27,
   "id": "0a64d1cc",
   "metadata": {},
   "outputs": [
    {
     "data": {
      "text/plain": [
       "8"
      ]
     },
     "execution_count": 27,
     "metadata": {},
     "output_type": "execute_result"
    }
   ],
   "source": [
    "### greatest number\n",
    "def greater(num1,num2):\n",
    "    if(num1>num2):\n",
    "        return num1\n",
    "    else:\n",
    "        return num2\n",
    "\n",
    "great=greater(7,8)\n",
    "great"
   ]
  },
  {
   "cell_type": "code",
   "execution_count": 28,
   "id": "181f2fc7",
   "metadata": {},
   "outputs": [
    {
     "data": {
      "text/plain": [
       "8"
      ]
     },
     "execution_count": 28,
     "metadata": {},
     "output_type": "execute_result"
    }
   ],
   "source": [
    "greater=lambda num1,num2:num1 if num1>num2 else num2\n",
    "greater(7,8)"
   ]
  },
  {
   "cell_type": "code",
   "execution_count": 29,
   "id": "21383321",
   "metadata": {},
   "outputs": [
    {
     "name": "stdout",
     "output_type": "stream",
     "text": [
      "[5, 7, 22, 97, 62, 77, 23, 73, 61]\n"
     ]
    }
   ],
   "source": [
    "li = [5, 7, 22, 97, 54, 62, 77, 23, 73, 61,33,99]\n",
    "final_list = list(filter(lambda x: (x%3 != 0) , li))\n",
    "print(final_list)"
   ]
  },
  {
   "cell_type": "code",
   "execution_count": 30,
   "id": "b443891b",
   "metadata": {},
   "outputs": [
    {
     "name": "stdout",
     "output_type": "stream",
     "text": [
      "[2, 24, 48, 56]\n"
     ]
    }
   ],
   "source": [
    "l=[2,3,24,65,45,48,49,56]\n",
    "x=list(filter(lambda x:(x%2== 0),l))\n",
    "print(x)"
   ]
  },
  {
   "cell_type": "code",
   "execution_count": 31,
   "id": "8e164930",
   "metadata": {},
   "outputs": [
    {
     "name": "stdout",
     "output_type": "stream",
     "text": [
      "[25, 49, 484, 9409, 2916, 3844, 5929, 529, 5329, 3721]\n"
     ]
    }
   ],
   "source": [
    "li = [5, 7, 22, 97, 54, 62, 77, 23, 73, 61]\n",
    "final_list = list(map(lambda x: x**2, li))\n",
    "print(final_list)"
   ]
  },
  {
   "cell_type": "code",
   "execution_count": 32,
   "id": "95aa359b",
   "metadata": {},
   "outputs": [
    {
     "name": "stdout",
     "output_type": "stream",
     "text": [
      "[2, 3, 4, 5, 6]\n"
     ]
    }
   ],
   "source": [
    "l=[20,30,40,50,60]\n",
    "f=list(map(lambda x: x//10,l))\n",
    "print(f)"
   ]
  },
  {
   "cell_type": "code",
   "execution_count": 33,
   "id": "b46839bf",
   "metadata": {},
   "outputs": [
    {
     "data": {
      "text/plain": [
       "120"
      ]
     },
     "execution_count": 33,
     "metadata": {},
     "output_type": "execute_result"
    }
   ],
   "source": [
    "from functools import reduce\n",
    "num_list=[1,2,3,4,5]\n",
    "reduce(lambda a,b:a*b,num_list)"
   ]
  },
  {
   "cell_type": "code",
   "execution_count": 34,
   "id": "c317f03f",
   "metadata": {},
   "outputs": [
    {
     "data": {
      "text/plain": [
       "26"
      ]
     },
     "execution_count": 34,
     "metadata": {},
     "output_type": "execute_result"
    }
   ],
   "source": [
    "from functools import reduce\n",
    "n=[1,2,3,4]\n",
    "reduce(lambda x,y:x*2+y,n)"
   ]
  },
  {
   "cell_type": "code",
   "execution_count": null,
   "id": "ecf47fcf",
   "metadata": {},
   "outputs": [],
   "source": [
    "challenge 1:enter name and print the name"
   ]
  },
  {
   "cell_type": "code",
   "execution_count": 35,
   "id": "38b6fb8d",
   "metadata": {},
   "outputs": [
    {
     "name": "stdout",
     "output_type": "stream",
     "text": [
      "what is your name?manju\n",
      "Hello, manju ,nice to meet you!\n"
     ]
    }
   ],
   "source": [
    "s=input(\"what is your name?\")\n",
    "print(\"Hello,\",s,\",nice to meet you!\")"
   ]
  },
  {
   "cell_type": "code",
   "execution_count": null,
   "id": "c5be76ed",
   "metadata": {},
   "outputs": [],
   "source": [
    "Challenge 2: Counting the number of characters\n",
    "O/p:\n",
    "    \n",
    "What is the input String?AIML\n",
    "AIML has 4 characters"
   ]
  },
  {
   "cell_type": "code",
   "execution_count": 36,
   "id": "d89f5699",
   "metadata": {},
   "outputs": [
    {
     "name": "stdout",
     "output_type": "stream",
     "text": [
      "what is the input string? AIML\n",
      "AIML has 4 characters\n"
     ]
    }
   ],
   "source": [
    "a=input(\"what is the input string? \")\n",
    "b=len(a)\n",
    "print(a ,\"has\",b ,\"characters\")"
   ]
  },
  {
   "cell_type": "code",
   "execution_count": null,
   "id": "10de96e7",
   "metadata": {},
   "outputs": [],
   "source": [
    "Challenge :3\n",
    "    \n",
    "    \n",
    "What is your Current age? 25\n",
    "At what age would you like to retire?65\n",
    "You have 40 years left until you can retire.\n",
    "Its 2022,so you caan retire at 2062."
   ]
  },
  {
   "cell_type": "code",
   "execution_count": 38,
   "id": "133d3997",
   "metadata": {},
   "outputs": [
    {
     "name": "stdout",
     "output_type": "stream",
     "text": [
      "what is your current age:25\n",
      "At what age would you like to retire:65\n",
      "you have 40 years left until you can retire\n",
      "it's 2022, so you can retire at 2062.\n"
     ]
    }
   ],
   "source": [
    "age=input(\"what is your current age:\")\n",
    "retire_age=input(\"At what age would you like to retire:\")\n",
    "print(\"you have 40 years left until you can retire\")\n",
    "print(\"it's 2022, so you can retire at 2062.\")"
   ]
  }
 ],
 "metadata": {
  "kernelspec": {
   "display_name": "Python 3 (ipykernel)",
   "language": "python",
   "name": "python3"
  },
  "language_info": {
   "codemirror_mode": {
    "name": "ipython",
    "version": 3
   },
   "file_extension": ".py",
   "mimetype": "text/x-python",
   "name": "python",
   "nbconvert_exporter": "python",
   "pygments_lexer": "ipython3",
   "version": "3.9.12"
  }
 },
 "nbformat": 4,
 "nbformat_minor": 5
}
