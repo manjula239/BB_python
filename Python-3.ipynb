{
 "cells": [
  {
   "cell_type": "markdown",
   "id": "2571ac40",
   "metadata": {},
   "source": [
    "### operators\n",
    "### Arithmetic\n",
    "### Relational\n",
    "### Logical\n",
    "### Membership\n",
    "### Bitwise\n",
    "### Assignment"
   ]
  },
  {
   "cell_type": "markdown",
   "id": "4c65ed80",
   "metadata": {},
   "source": [
    "#### Arithmetic operators (add,sub,mul,div,exp, modulus, floor division)"
   ]
  },
  {
   "cell_type": "code",
   "execution_count": 1,
   "id": "f4102668",
   "metadata": {},
   "outputs": [
    {
     "data": {
      "text/plain": [
       "11000"
      ]
     },
     "execution_count": 1,
     "metadata": {},
     "output_type": "execute_result"
    }
   ],
   "source": [
    "income=10000\n",
    "incentive=1000\n",
    "total=income+incentive\n",
    "total"
   ]
  },
  {
   "cell_type": "code",
   "execution_count": 5,
   "id": "cb73d800",
   "metadata": {},
   "outputs": [
    {
     "data": {
      "text/plain": [
       "22"
      ]
     },
     "execution_count": 5,
     "metadata": {},
     "output_type": "execute_result"
    }
   ],
   "source": [
    "x=67\n",
    "y=45\n",
    "z=x-y\n",
    "z"
   ]
  },
  {
   "cell_type": "code",
   "execution_count": 7,
   "id": "205a409e",
   "metadata": {},
   "outputs": [
    {
     "data": {
      "text/plain": [
       "80"
      ]
     },
     "execution_count": 7,
     "metadata": {},
     "output_type": "execute_result"
    }
   ],
   "source": [
    "x=20\n",
    "y=4\n",
    "z=x*y\n",
    "z"
   ]
  },
  {
   "cell_type": "code",
   "execution_count": 9,
   "id": "67c2b6a9",
   "metadata": {},
   "outputs": [
    {
     "data": {
      "text/plain": [
       "5.0"
      ]
     },
     "execution_count": 9,
     "metadata": {},
     "output_type": "execute_result"
    }
   ],
   "source": [
    "x=20\n",
    "y=4\n",
    "z=x/y\n",
    "z"
   ]
  },
  {
   "cell_type": "markdown",
   "id": "c5c89041",
   "metadata": {},
   "source": [
    "### In addition, subtraction, multiplication if one of the operand is float,then result is also float\n",
    "### In division irresesptive of datatypes,the result is float\n"
   ]
  },
  {
   "cell_type": "code",
   "execution_count": 11,
   "id": "022304ca",
   "metadata": {},
   "outputs": [
    {
     "data": {
      "text/plain": [
       "343"
      ]
     },
     "execution_count": 11,
     "metadata": {},
     "output_type": "execute_result"
    }
   ],
   "source": [
    "### exponential (**)\n",
    "a=7\n",
    "b=3\n",
    "z=a**b\n",
    "z"
   ]
  },
  {
   "cell_type": "code",
   "execution_count": null,
   "id": "444e5d6f",
   "metadata": {},
   "outputs": [],
   "source": [
    "##### Modules (%)-remainder\n",
    "##### if there is negative number"
   ]
  },
  {
   "cell_type": "code",
   "execution_count": 12,
   "id": "439e5bfa",
   "metadata": {},
   "outputs": [
    {
     "data": {
      "text/plain": [
       "1"
      ]
     },
     "execution_count": 12,
     "metadata": {},
     "output_type": "execute_result"
    }
   ],
   "source": [
    "### Modulus (%)-Remainder\n",
    "### x%y\n",
    "### if x>y,it returns remainder\n",
    "### if x<y,it returns x\n",
    "a=1\n",
    "b=3\n",
    "z=a%b\n",
    "z\n"
   ]
  },
  {
   "cell_type": "code",
   "execution_count": 14,
   "id": "72abd178",
   "metadata": {},
   "outputs": [
    {
     "data": {
      "text/plain": [
       "0"
      ]
     },
     "execution_count": 14,
     "metadata": {},
     "output_type": "execute_result"
    }
   ],
   "source": [
    "### Floor division (//)-quotient\n",
    "### x//y\n",
    "### if x>y,it returns quotient\n",
    "### if x<y,it returns zero\n",
    "a=1\n",
    "b=3\n",
    "z=a//b\n",
    "z\n"
   ]
  },
  {
   "cell_type": "code",
   "execution_count": 15,
   "id": "483d941a",
   "metadata": {},
   "outputs": [
    {
     "name": "stdout",
     "output_type": "stream",
     "text": [
      "enter ur name:Manju\n",
      "welcome Manju\n"
     ]
    }
   ],
   "source": [
    "name=input (\"enter ur name:\")\n",
    "print (\"welcome\",name)"
   ]
  },
  {
   "cell_type": "code",
   "execution_count": 17,
   "id": "63e0ede4",
   "metadata": {},
   "outputs": [
    {
     "name": "stdout",
     "output_type": "stream",
     "text": [
      "enter price:1000\n",
      "enter quantity:50\n"
     ]
    },
    {
     "data": {
      "text/plain": [
       "50000"
      ]
     },
     "execution_count": 17,
     "metadata": {},
     "output_type": "execute_result"
    }
   ],
   "source": [
    "price=int(input (\"enter price:\"))\n",
    "quantity=int(input (\"enter quantity:\"))\n",
    "cost=price*quantity\n",
    "cost"
   ]
  },
  {
   "cell_type": "markdown",
   "id": "73933545",
   "metadata": {},
   "source": [
    "### Relational operators\n",
    "### Equal to(==)\n",
    "### Not equal to (!=)\n",
    "### Greater than(>)\n",
    "### Less than(<)\n",
    "### Greater than or equal to (>=)\n",
    "### Less than or equal to (<=)\n"
   ]
  },
  {
   "cell_type": "code",
   "execution_count": null,
   "id": "cee537ed",
   "metadata": {},
   "outputs": [],
   "source": [
    "### Relational operators\n",
    "x=67\n",
    "y=34"
   ]
  },
  {
   "cell_type": "code",
   "execution_count": 19,
   "id": "c6a98b9e",
   "metadata": {},
   "outputs": [
    {
     "data": {
      "text/plain": [
       "False"
      ]
     },
     "execution_count": 19,
     "metadata": {},
     "output_type": "execute_result"
    }
   ],
   "source": [
    "x==y"
   ]
  },
  {
   "cell_type": "code",
   "execution_count": 21,
   "id": "61cefdd0",
   "metadata": {},
   "outputs": [
    {
     "data": {
      "text/plain": [
       "True"
      ]
     },
     "execution_count": 21,
     "metadata": {},
     "output_type": "execute_result"
    }
   ],
   "source": [
    "x!=y"
   ]
  },
  {
   "cell_type": "code",
   "execution_count": 23,
   "id": "f88d38e0",
   "metadata": {},
   "outputs": [
    {
     "data": {
      "text/plain": [
       "False"
      ]
     },
     "execution_count": 23,
     "metadata": {},
     "output_type": "execute_result"
    }
   ],
   "source": [
    "x<y"
   ]
  },
  {
   "cell_type": "code",
   "execution_count": 25,
   "id": "36d868e5",
   "metadata": {},
   "outputs": [
    {
     "data": {
      "text/plain": [
       "True"
      ]
     },
     "execution_count": 25,
     "metadata": {},
     "output_type": "execute_result"
    }
   ],
   "source": [
    "x>y"
   ]
  },
  {
   "cell_type": "code",
   "execution_count": 27,
   "id": "a892a6bc",
   "metadata": {},
   "outputs": [
    {
     "data": {
      "text/plain": [
       "True"
      ]
     },
     "execution_count": 27,
     "metadata": {},
     "output_type": "execute_result"
    }
   ],
   "source": [
    "x>=y"
   ]
  },
  {
   "cell_type": "code",
   "execution_count": 29,
   "id": "1953dc76",
   "metadata": {},
   "outputs": [
    {
     "data": {
      "text/plain": [
       "False"
      ]
     },
     "execution_count": 29,
     "metadata": {},
     "output_type": "execute_result"
    }
   ],
   "source": [
    "x<=y"
   ]
  },
  {
   "cell_type": "code",
   "execution_count": null,
   "id": "044fa8fc",
   "metadata": {},
   "outputs": [],
   "source": [
    "### Logical operators\n",
    "\n",
    "1.And\n",
    "2.Or\n",
    "3.Not\n"
   ]
  },
  {
   "cell_type": "markdown",
   "id": "62f1c9d4",
   "metadata": {},
   "source": [
    "### And\n",
    "is_student=True\n",
    "in_college=True\n",
    "in_school=False"
   ]
  },
  {
   "cell_type": "code",
   "execution_count": 32,
   "id": "7880f725",
   "metadata": {},
   "outputs": [
    {
     "data": {
      "text/plain": [
       "True"
      ]
     },
     "execution_count": 32,
     "metadata": {},
     "output_type": "execute_result"
    }
   ],
   "source": [
    "is_student and in_college"
   ]
  },
  {
   "cell_type": "code",
   "execution_count": 33,
   "id": "950a73c8",
   "metadata": {},
   "outputs": [
    {
     "data": {
      "text/plain": [
       "False"
      ]
     },
     "execution_count": 33,
     "metadata": {},
     "output_type": "execute_result"
    }
   ],
   "source": [
    "is_student and in_school"
   ]
  },
  {
   "cell_type": "markdown",
   "id": "72e28215",
   "metadata": {},
   "source": [
    "### Or\n"
   ]
  },
  {
   "cell_type": "code",
   "execution_count": 34,
   "id": "10df0cb6",
   "metadata": {},
   "outputs": [
    {
     "data": {
      "text/plain": [
       "True"
      ]
     },
     "execution_count": 34,
     "metadata": {},
     "output_type": "execute_result"
    }
   ],
   "source": [
    "is_student or in_college"
   ]
  },
  {
   "cell_type": "markdown",
   "id": "c59c9565",
   "metadata": {},
   "source": [
    "### Not"
   ]
  },
  {
   "cell_type": "code",
   "execution_count": 35,
   "id": "f9b828a5",
   "metadata": {},
   "outputs": [
    {
     "data": {
      "text/plain": [
       "False"
      ]
     },
     "execution_count": 35,
     "metadata": {},
     "output_type": "execute_result"
    }
   ],
   "source": [
    "not(is_student)"
   ]
  },
  {
   "cell_type": "markdown",
   "id": "c6ff9cce",
   "metadata": {},
   "source": [
    "### Assignment Operators\n",
    "#### a+=b=>a=a+b\n",
    "#### a-=b=>a=a-b"
   ]
  },
  {
   "cell_type": "code",
   "execution_count": 37,
   "id": "6c3e8ab7",
   "metadata": {},
   "outputs": [
    {
     "data": {
      "text/plain": [
       "8"
      ]
     },
     "execution_count": 37,
     "metadata": {},
     "output_type": "execute_result"
    }
   ],
   "source": [
    "x=3\n",
    "x+=5\n",
    "x"
   ]
  },
  {
   "cell_type": "code",
   "execution_count": 39,
   "id": "a6664631",
   "metadata": {},
   "outputs": [
    {
     "data": {
      "text/plain": [
       "-2"
      ]
     },
     "execution_count": 39,
     "metadata": {},
     "output_type": "execute_result"
    }
   ],
   "source": [
    "x=3\n",
    "x-=5\n",
    "x"
   ]
  },
  {
   "cell_type": "code",
   "execution_count": 41,
   "id": "b169291c",
   "metadata": {},
   "outputs": [
    {
     "data": {
      "text/plain": [
       "15"
      ]
     },
     "execution_count": 41,
     "metadata": {},
     "output_type": "execute_result"
    }
   ],
   "source": [
    "x=5\n",
    "x*=3\n",
    "x"
   ]
  },
  {
   "cell_type": "code",
   "execution_count": 43,
   "id": "04ba9f6d",
   "metadata": {},
   "outputs": [
    {
     "data": {
      "text/plain": [
       "5.0"
      ]
     },
     "execution_count": 43,
     "metadata": {},
     "output_type": "execute_result"
    }
   ],
   "source": [
    "x=10\n",
    "x/=2\n",
    "x"
   ]
  },
  {
   "cell_type": "code",
   "execution_count": 45,
   "id": "5c172064",
   "metadata": {},
   "outputs": [
    {
     "data": {
      "text/plain": [
       "25"
      ]
     },
     "execution_count": 45,
     "metadata": {},
     "output_type": "execute_result"
    }
   ],
   "source": [
    "x=5\n",
    "x**=2\n",
    "x"
   ]
  },
  {
   "cell_type": "code",
   "execution_count": 47,
   "id": "05966c8d",
   "metadata": {},
   "outputs": [
    {
     "data": {
      "text/plain": [
       "2"
      ]
     },
     "execution_count": 47,
     "metadata": {},
     "output_type": "execute_result"
    }
   ],
   "source": [
    "x=11\n",
    "x%=3\n",
    "x"
   ]
  },
  {
   "cell_type": "code",
   "execution_count": 49,
   "id": "3c018b5c",
   "metadata": {},
   "outputs": [
    {
     "data": {
      "text/plain": [
       "6.0"
      ]
     },
     "execution_count": 49,
     "metadata": {},
     "output_type": "execute_result"
    }
   ],
   "source": [
    "x=10\n",
    "x//=1.5\n",
    "x"
   ]
  }
 ],
 "metadata": {
  "kernelspec": {
   "display_name": "Python 3 (ipykernel)",
   "language": "python",
   "name": "python3"
  },
  "language_info": {
   "codemirror_mode": {
    "name": "ipython",
    "version": 3
   },
   "file_extension": ".py",
   "mimetype": "text/x-python",
   "name": "python",
   "nbconvert_exporter": "python",
   "pygments_lexer": "ipython3",
   "version": "3.9.7"
  }
 },
 "nbformat": 4,
 "nbformat_minor": 5
}
