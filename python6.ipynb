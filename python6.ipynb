{
 "cells": [
  {
   "cell_type": "markdown",
   "id": "a9658b47",
   "metadata": {},
   "source": [
    "### loops and functions"
   ]
  },
  {
   "cell_type": "code",
   "execution_count": 1,
   "id": "0e2814bf",
   "metadata": {},
   "outputs": [
    {
     "name": "stdout",
     "output_type": "stream",
     "text": [
      "b is greater than a\n"
     ]
    }
   ],
   "source": [
    "a=20\n",
    "b=33\n",
    "if b>a:\n",
    "    print(\"b is greater than a\")"
   ]
  },
  {
   "cell_type": "code",
   "execution_count": 2,
   "id": "1a176a7a",
   "metadata": {},
   "outputs": [],
   "source": [
    "a=40\n",
    "b=33\n",
    "if b>a:\n",
    "    print(\"b is greater than a\")  ### Condition is False"
   ]
  },
  {
   "cell_type": "code",
   "execution_count": 3,
   "id": "c91acac1",
   "metadata": {},
   "outputs": [],
   "source": [
    "a=20\n",
    "b=20\n",
    "if b>a:\n",
    "    print(\"b is greater than a\")  ### Condition is False"
   ]
  },
  {
   "cell_type": "code",
   "execution_count": 85,
   "id": "36c2e590",
   "metadata": {},
   "outputs": [],
   "source": [
    "a=20\n",
    "b=20\n",
    "if b>a:\n",
    "    print(\"b is greater than a\")  "
   ]
  },
  {
   "cell_type": "code",
   "execution_count": 5,
   "id": "535c2427",
   "metadata": {},
   "outputs": [
    {
     "name": "stdout",
     "output_type": "stream",
     "text": [
      "a is equal to b\n"
     ]
    }
   ],
   "source": [
    "a=20\n",
    "b=20\n",
    "if b==a:\n",
    "    print(\"a is equal to b\") "
   ]
  },
  {
   "cell_type": "code",
   "execution_count": 6,
   "id": "a3036129",
   "metadata": {},
   "outputs": [
    {
     "name": "stdout",
     "output_type": "stream",
     "text": [
      "b is not equal to a\n"
     ]
    }
   ],
   "source": [
    "a=24\n",
    "b=20\n",
    "if b!=a:\n",
    "    print(\"b is not equal to a\") "
   ]
  },
  {
   "cell_type": "code",
   "execution_count": 7,
   "id": "29e8a25e",
   "metadata": {},
   "outputs": [
    {
     "name": "stdout",
     "output_type": "stream",
     "text": [
      "a is lesser than b\n"
     ]
    }
   ],
   "source": [
    "a=20\n",
    "b=30\n",
    "if a<b:\n",
    "    print(\"a is lesser than b\")"
   ]
  },
  {
   "cell_type": "code",
   "execution_count": 8,
   "id": "59a167d8",
   "metadata": {},
   "outputs": [
    {
     "name": "stdout",
     "output_type": "stream",
     "text": [
      "a is lesser than or equal to b\n"
     ]
    }
   ],
   "source": [
    "a=30\n",
    "b=30\n",
    "if a<=b:\n",
    "    print(\"a is lesser than or equal to b\")"
   ]
  },
  {
   "cell_type": "code",
   "execution_count": 9,
   "id": "fcedce70",
   "metadata": {},
   "outputs": [
    {
     "name": "stdout",
     "output_type": "stream",
     "text": [
      "a is greater than or equal to b\n"
     ]
    }
   ],
   "source": [
    "a=30\n",
    "b=30\n",
    "if a>=b:\n",
    "    print(\"a is greater than or equal to b\")"
   ]
  },
  {
   "cell_type": "code",
   "execution_count": 10,
   "id": "df5787b7",
   "metadata": {},
   "outputs": [
    {
     "name": "stdout",
     "output_type": "stream",
     "text": [
      "enter the time8\n",
      "attend the blackbucks\n"
     ]
    }
   ],
   "source": [
    "time=int(input(\"enter the time\"))\n",
    "if time>7:\n",
    "    print(\"attend the blackbucks\")"
   ]
  },
  {
   "cell_type": "code",
   "execution_count": 11,
   "id": "0d514142",
   "metadata": {},
   "outputs": [
    {
     "name": "stdout",
     "output_type": "stream",
     "text": [
      "6\n",
      "even\n"
     ]
    }
   ],
   "source": [
    "a=int(input ()) \n",
    "if a%2==0:\n",
    "    print('even')"
   ]
  },
  {
   "cell_type": "code",
   "execution_count": 12,
   "id": "bbf57667",
   "metadata": {},
   "outputs": [
    {
     "name": "stdout",
     "output_type": "stream",
     "text": [
      "enter your age19\n",
      "eligible to vote\n"
     ]
    }
   ],
   "source": [
    "age=int(input(\"enter your age\"))\n",
    "if age>=18:\n",
    "     print(\"eligible to vote\")"
   ]
  },
  {
   "cell_type": "code",
   "execution_count": 2,
   "id": "0ce51ea8",
   "metadata": {},
   "outputs": [
    {
     "name": "stdout",
     "output_type": "stream",
     "text": [
      "enter your  ai and ml training instituteblackbucks\n",
      "your choice is wonderful\n"
     ]
    }
   ],
   "source": [
    "a=input(\"enter your  ai and ml training institute\")\n",
    "if a==\"blackbucks\":\n",
    "    print(\"your choice is wonderful\")"
   ]
  },
  {
   "cell_type": "code",
   "execution_count": 3,
   "id": "18bee30b",
   "metadata": {},
   "outputs": [
    {
     "name": "stdout",
     "output_type": "stream",
     "text": [
      "a is greater\n"
     ]
    }
   ],
   "source": [
    "a=56\n",
    "b=42\n",
    "if a>b:\n",
    "    print(\"a is greater\")\n",
    "else:\n",
    "    print(\"b is greater\")"
   ]
  },
  {
   "cell_type": "code",
   "execution_count": 4,
   "id": "e3391f2f",
   "metadata": {},
   "outputs": [
    {
     "name": "stdout",
     "output_type": "stream",
     "text": [
      "a is greater than or equal to b \n"
     ]
    }
   ],
   "source": [
    "a=42\n",
    "b=42\n",
    "if a>=b:\n",
    "    print(\"a is greater than or equal to b \")\n",
    "else:\n",
    "    print(\"b is greater\")"
   ]
  },
  {
   "cell_type": "code",
   "execution_count": 5,
   "id": "0420bb79",
   "metadata": {},
   "outputs": [
    {
     "name": "stdout",
     "output_type": "stream",
     "text": [
      "a is equal to b\n"
     ]
    }
   ],
   "source": [
    "a=42\n",
    "b=42\n",
    "if a==b:\n",
    "    print(\"a is equal to b\")\n",
    "else:\n",
    "    print(\"a is not equal to b\")"
   ]
  },
  {
   "cell_type": "code",
   "execution_count": 6,
   "id": "cae73aa8",
   "metadata": {},
   "outputs": [
    {
     "name": "stdout",
     "output_type": "stream",
     "text": [
      "Enter your experience5\n",
      "Extraordinary\n"
     ]
    }
   ],
   "source": [
    "input=int(input(\"Enter your experience\"))\n",
    "if(input>=5):\n",
    "\t    print(\"Extraordinary\")\n",
    "else:\n",
    "\t    print(\"Not upto the expectations\")"
   ]
  },
  {
   "cell_type": "code",
   "execution_count": 3,
   "id": "3fe21900",
   "metadata": {},
   "outputs": [
    {
     "name": "stdout",
     "output_type": "stream",
     "text": [
      " Please Enter Your Subject Marks:  45\n",
      " You Failed\n",
      " Better Luck Next Time\n"
     ]
    }
   ],
   "source": [
    "marks = int(input(\" Please Enter Your Subject Marks:  \"))\n",
    "if (marks>= 50):\n",
    "    print(\" Congratulations \") \n",
    "    print(\" You cleared the subject \") \n",
    "else:\n",
    "    print(\" You Failed\") \n",
    "    print(\" Better Luck Next Time\")"
   ]
  },
  {
   "cell_type": "code",
   "execution_count": 4,
   "id": "8b93ac2c",
   "metadata": {},
   "outputs": [
    {
     "name": "stdout",
     "output_type": "stream",
     "text": [
      " Please Enter Your Subject Marks:  45\n",
      " You Failed\n",
      " Better Luck Next Time\n"
     ]
    }
   ],
   "source": [
    "marks =int(input(\" Please Enter Your Subject Marks:  \"))\n",
    "if (marks>= 50):\n",
    "    print(\" Congratulations \") \n",
    "    print(\" You cleared the subject \") \n",
    "else:\n",
    "    print(\" You Failed\") \n",
    "    print(\" Better Luck Next Time\")"
   ]
  },
  {
   "cell_type": "code",
   "execution_count": 5,
   "id": "5a439a1a",
   "metadata": {},
   "outputs": [
    {
     "name": "stdout",
     "output_type": "stream",
     "text": [
      "enter first number :4.5\n",
      "enter second number :3.0\n",
      "a is greater\n"
     ]
    }
   ],
   "source": [
    "a=float(input(\"enter first number :\"))\n",
    "b=float(input(\"enter second number :\"))\n",
    "if a==b:\n",
    "    print(\" a and b are equal\")\n",
    "elif a>b:\n",
    "    print(\"a is greater\")\n",
    "else:\n",
    "    print('b is greater')"
   ]
  },
  {
   "cell_type": "code",
   "execution_count": 11,
   "id": "f1f22cee",
   "metadata": {},
   "outputs": [
    {
     "name": "stdout",
     "output_type": "stream",
     "text": [
      "a is greater\n"
     ]
    }
   ],
   "source": [
    "a=35\n",
    "b=25\n",
    "if a==b:\n",
    "    print(\" a and b are equal\")\n",
    "elif a>b:\n",
    "    print(\"a is greater\")\n",
    "else:\n",
    "    print('b is greater')"
   ]
  },
  {
   "cell_type": "code",
   "execution_count": 6,
   "id": "a3f233f1",
   "metadata": {},
   "outputs": [
    {
     "name": "stdout",
     "output_type": "stream",
     "text": [
      "enter a digit:9\n",
      "nine\n"
     ]
    }
   ],
   "source": [
    "x=int(input(\"enter a digit:\"))\n",
    "if x==0:\n",
    "          print(\"zero\")\n",
    "elif x==1:\n",
    "          print(\"one\")\n",
    "elif x==2:\n",
    "          print(\"two\")\n",
    "elif x==3:\n",
    "          print(\"three\")\n",
    "elif x==4:\n",
    "          print(\"four\")\n",
    "elif x==5:\n",
    "          print(\"five\")\n",
    "elif x==6:\n",
    "          print(\"six\")\n",
    "elif x==7:\n",
    "          print(\"seven\")\n",
    "elif x==8:\n",
    "          print(\"eight\")\n",
    "elif x==9:\n",
    "          print(\"nine\")\n",
    "else:\n",
    "          print(\"you have a wrong digit\",x)"
   ]
  },
  {
   "cell_type": "code",
   "execution_count": 7,
   "id": "60536b29",
   "metadata": {},
   "outputs": [
    {
     "name": "stdout",
     "output_type": "stream",
     "text": [
      "enter temp40\n",
      "it's normal temperature in your city\n"
     ]
    }
   ],
   "source": [
    "a=int(input(\"enter temp\"))\n",
    "if(a>=40):\n",
    "    print(\"It's extreme hot in your city\")\n",
    "elif(a>30 and a<35):\n",
    "      print(\"it's normal hot in your city\")\n",
    "else:\n",
    "      print(\"it's normal temperature in your city\")"
   ]
  },
  {
   "cell_type": "code",
   "execution_count": 8,
   "id": "e9e952c7",
   "metadata": {},
   "outputs": [
    {
     "name": "stdout",
     "output_type": "stream",
     "text": [
      "Rate your experience3\n",
      "good\n"
     ]
    }
   ],
   "source": [
    "input=int(input(\"Rate your experience\"))\n",
    "if(input>=5):\n",
    "\t\tprint(\"Extraordinary\")\n",
    "elif(input>=4):\n",
    "\tprint(\"very good\")\n",
    "elif(input>=3):\n",
    "\tprint(\"good\")\n",
    "elif(input>=2):\n",
    "\tprint(\"can do better\")\n",
    "else:\n",
    "\tprint(\"Not upto the expectations\")"
   ]
  },
  {
   "cell_type": "code",
   "execution_count": 123,
   "id": "d9b440b4",
   "metadata": {},
   "outputs": [
    {
     "name": "stdout",
     "output_type": "stream",
     "text": [
      "it is divisible by 5\n"
     ]
    }
   ],
   "source": [
    "num=25\n",
    "if num>0:\n",
    "    if num%5==0:\n",
    "        print(\"it is divisible by 5\")\n",
    "    else:\n",
    "            print(\"not divisible\")\n",
    "else:\n",
    "                print(\"negative number\")"
   ]
  },
  {
   "cell_type": "code",
   "execution_count": 121,
   "id": "e8f387c6",
   "metadata": {},
   "outputs": [
    {
     "name": "stdout",
     "output_type": "stream",
     "text": [
      "Senior Citizen\n"
     ]
    }
   ],
   "source": [
    "age=63\n",
    "if age>=18:\n",
    "    if age>18 and age<=50:\n",
    "        print(\"Adult\")\n",
    "    else:\n",
    "        print(\"Senior Citizen\")\n",
    "else:\n",
    "    print(\"children\")"
   ]
  },
  {
   "cell_type": "code",
   "execution_count": 120,
   "id": "0c136143",
   "metadata": {},
   "outputs": [
    {
     "name": "stdout",
     "output_type": "stream",
     "text": [
      "odd\n"
     ]
    }
   ],
   "source": [
    "num=23\n",
    "if(num%2==0):\n",
    "    if(num==0):\n",
    "        print(\"zero\")\n",
    "    else:\n",
    "        print(\"even\")\n",
    "else:\n",
    "    print(\"odd\")"
   ]
  },
  {
   "cell_type": "code",
   "execution_count": 26,
   "id": "60c975b2",
   "metadata": {},
   "outputs": [
    {
     "name": "stdout",
     "output_type": "stream",
     "text": [
      "Expression value is less than 200\n",
      "Which is 100\n"
     ]
    }
   ],
   "source": [
    "var = 100\n",
    "if var < 200:\n",
    "    print (\"Expression value is less than 200\")\n",
    "     if var == 150:\n",
    "        print (\"Which is 150\")\n",
    "    elif var == 100:\n",
    "        print (\"Which is 100\")\n",
    "    elif var == 50:\n",
    "        print (\"Which is 50\")\n",
    "    elif var < 50:\n",
    "        print (\"Expression value is less than 50\")\n",
    "else:\n",
    "    print (\"Could not find \")"
   ]
  },
  {
   "cell_type": "code",
   "execution_count": 119,
   "id": "25a88615",
   "metadata": {},
   "outputs": [
    {
     "name": "stdout",
     "output_type": "stream",
     "text": [
      "You can drive\n"
     ]
    }
   ],
   "source": [
    "num=15\n",
    "if num>=15:\n",
    "    if num==15:\n",
    "        print('You can drive')\n",
    "    else:\n",
    "        print('test drive required')  \n",
    "else:\n",
    "    print('Better luck next time')"
   ]
  },
  {
   "cell_type": "code",
   "execution_count": 118,
   "id": "9e42dbd5",
   "metadata": {},
   "outputs": [
    {
     "name": "stdout",
     "output_type": "stream",
     "text": [
      "You are not eligible for working\n"
     ]
    }
   ],
   "source": [
    "a=5\n",
    "if(a<58):\n",
    "    if(a<=21):\n",
    "        print(\"You are not eligible for working\")\n",
    "    else:\n",
    "        print(\"You are eligible for working\")\n",
    "else:\n",
    "    print(\"You are retired\")"
   ]
  },
  {
   "cell_type": "code",
   "execution_count": 30,
   "id": "c8aa7c22",
   "metadata": {},
   "outputs": [
    {
     "name": "stdout",
     "output_type": "stream",
     "text": [
      "Expression value is positive\n",
      "divisable\n"
     ]
    }
   ],
   "source": [
    "var1 = 8\n",
    "var2 = 5\n",
    "if (var1 and var2) > 0 :\n",
    "     print (\"Expression value is positive\")\n",
    "        if (var1/var2>=0) :\n",
    "            print (\"divisable\")\n",
    "        elif(var1/var2 <0):\n",
    "            print (\"decimal quotient\")\n",
    "        elif (var1 and var2)==0 :\n",
    "            print (\"indivisble\")\n",
    "else:\n",
    "     print (\"ended my if for now\")"
   ]
  },
  {
   "cell_type": "code",
   "execution_count": 117,
   "id": "89c9f97a",
   "metadata": {},
   "outputs": [
    {
     "name": "stdout",
     "output_type": "stream",
     "text": [
      " pass with good marks\n"
     ]
    }
   ],
   "source": [
    "Mark=75\n",
    "if Mark>=30:\n",
    "     if Mark==30:\n",
    "        print('just pass')\n",
    "     else:\n",
    "        print(' pass with good marks')\n",
    "else:\n",
    "    print('fail')"
   ]
  },
  {
   "cell_type": "code",
   "execution_count": null,
   "id": "528b1bfe",
   "metadata": {},
   "outputs": [],
   "source": [
    "day=int(input('enter a day'))\n",
    "if day>=0:\n",
    "    if day==1:\n",
    "              print('day is monday')\n",
    "    else:\n",
    "        print('holiday')\n",
    "else:\n",
    "    print('tuesday')"
   ]
  },
  {
   "cell_type": "code",
   "execution_count": 112,
   "id": "d86bc531",
   "metadata": {},
   "outputs": [
    {
     "name": "stdout",
     "output_type": "stream",
     "text": [
      "poor performance\n"
     ]
    }
   ],
   "source": [
    "a=45.5\n",
    "if a>=50:\n",
    "    if a==50:\n",
    "         print(\"average performance\") \n",
    "    else:\n",
    "        print(\"good performance\")\n",
    "else:\n",
    "       print(\"poor performance\")"
   ]
  },
  {
   "cell_type": "code",
   "execution_count": 113,
   "id": "43b36c6b",
   "metadata": {},
   "outputs": [
    {
     "name": "stdout",
     "output_type": "stream",
     "text": [
      "b is greater\n"
     ]
    }
   ],
   "source": [
    "a=10\n",
    "b=20\n",
    "if a==b:\n",
    "    print('a is equal to b')\n",
    "elif a>b:\n",
    "    print('a is greater than b')\n",
    "else:\n",
    "    print('b is greater')"
   ]
  },
  {
   "cell_type": "code",
   "execution_count": 43,
   "id": "0d750a2d",
   "metadata": {},
   "outputs": [
    {
     "name": "stdout",
     "output_type": "stream",
     "text": [
      "Both are true\n"
     ]
    }
   ],
   "source": [
    "a=189\n",
    "b=123\n",
    "c=1000\n",
    "if a>b and c>a:\n",
    "    print(\"Both are true\")"
   ]
  },
  {
   "cell_type": "code",
   "execution_count": 44,
   "id": "d51604a4",
   "metadata": {},
   "outputs": [
    {
     "name": "stdout",
     "output_type": "stream",
     "text": [
      "Either a or b or c is true\n"
     ]
    }
   ],
   "source": [
    "a=189\n",
    "b=123\n",
    "c=10\n",
    "if a>b or c>a:\n",
    "    print(\"Either a or b or c is true\")"
   ]
  },
  {
   "cell_type": "code",
   "execution_count": 99,
   "id": "51d4c242",
   "metadata": {},
   "outputs": [
    {
     "name": "stdout",
     "output_type": "stream",
     "text": [
      "a and b divisble by c\n"
     ]
    }
   ],
   "source": [
    "a=6\n",
    "b=2\n",
    "c=3\n",
    "if (a and b)/c:\n",
    "          print('a and b divisble by c')\n",
    "else:\n",
    "    print('not divisible')"
   ]
  },
  {
   "cell_type": "code",
   "execution_count": 111,
   "id": "2614d2d3",
   "metadata": {},
   "outputs": [
    {
     "name": "stdout",
     "output_type": "stream",
     "text": [
      "fail\n"
     ]
    }
   ],
   "source": [
    "a=31\n",
    "b=29\n",
    "c=23\n",
    "if a<=b and a>=c:\n",
    "    print('pass')\n",
    "else:\n",
    "    print(\"fail\")"
   ]
  },
  {
   "cell_type": "code",
   "execution_count": 109,
   "id": "b9f272fb",
   "metadata": {},
   "outputs": [
    {
     "name": "stdout",
     "output_type": "stream",
     "text": [
      "a is greter\n"
     ]
    }
   ],
   "source": [
    "a=5.9\n",
    "b=2.9\n",
    "c=2.3\n",
    "if a>b and a>c:\n",
    "     print(\"a is greter\")\n",
    "elif b>c and b>a:\n",
    "    print(\"b is greater\")    \n",
    "else:\n",
    "     print(\"c is greater\")"
   ]
  },
  {
   "cell_type": "code",
   "execution_count": 46,
   "id": "2be96790",
   "metadata": {},
   "outputs": [
    {
     "name": "stdout",
     "output_type": "stream",
     "text": [
      "Both are False!\n"
     ]
    }
   ],
   "source": [
    "x = 50\n",
    "y = 30\n",
    "if(x==10)or(y<20):\n",
    "    print(\"One or Both expressions are True\")\n",
    "else:\n",
    "    print(\"Both are False!\")"
   ]
  },
  {
   "cell_type": "code",
   "execution_count": 98,
   "id": "197282b6",
   "metadata": {},
   "outputs": [
    {
     "name": "stdout",
     "output_type": "stream",
     "text": [
      "values are positive\n",
      "divide: 4.5\n"
     ]
    }
   ],
   "source": [
    "a=9\n",
    "b=2\n",
    "if (a and b ) > 0 :\n",
    "    print(\"values are positive\")\n",
    "    print(\"divide:\", a/b )\n",
    "elif b<= 0 :\n",
    "    print(\"divide by 0 error\")"
   ]
  },
  {
   "cell_type": "code",
   "execution_count": 97,
   "id": "5287a5a1",
   "metadata": {},
   "outputs": [
    {
     "name": "stdout",
     "output_type": "stream",
     "text": [
      "both are divsible by c\n"
     ]
    }
   ],
   "source": [
    "a=2\n",
    "b=3\n",
    "c=8\n",
    "if (a or b)/c:\n",
    "    if (a and b)/c:\n",
    "             print('both are divsible by c')\n",
    "    else:\n",
    "         print('only one is  divisible')\n",
    "else:\n",
    "    print('both are not divisible')"
   ]
  },
  {
   "cell_type": "code",
   "execution_count": 95,
   "id": "fe15c7e9",
   "metadata": {},
   "outputs": [
    {
     "name": "stdout",
     "output_type": "stream",
     "text": [
      "better luck next time\n"
     ]
    }
   ],
   "source": [
    "a=5\n",
    "b=5\n",
    "c=3\n",
    "if a!=b and a>b:\n",
    "    print('you won a bike')\n",
    "elif a<b:\n",
    "    print('50% off in Dominos')\n",
    "else:\n",
    "    print('better luck next time')"
   ]
  },
  {
   "cell_type": "code",
   "execution_count": 93,
   "id": "83ef37bf",
   "metadata": {},
   "outputs": [
    {
     "name": "stdout",
     "output_type": "stream",
     "text": [
      "coolest weather\n"
     ]
    }
   ],
   "source": [
    "temp=20.0\n",
    "if temp==20 or temp<=20:\n",
    "    print(\"coolest weather\")\n",
    "elif (temp==30)>=20 or (temp==30)>20:\n",
    "    print(\"cool weather\")\n",
    "else:\n",
    "        print(\"warm weather\")"
   ]
  },
  {
   "cell_type": "code",
   "execution_count": 100,
   "id": "335615ab",
   "metadata": {},
   "outputs": [
    {
     "name": "stdout",
     "output_type": "stream",
     "text": [
      "both the strings are equal\n"
     ]
    }
   ],
   "source": [
    "name1=\"manju\"\n",
    "name2=\"manju\"\n",
    "if  name1==name2:\n",
    "     print('both the strings are equal')  \n",
    "else:\n",
    "     print('strings are not equal') "
   ]
  },
  {
   "cell_type": "code",
   "execution_count": 101,
   "id": "ec9f094f",
   "metadata": {},
   "outputs": [
    {
     "name": "stdout",
     "output_type": "stream",
     "text": [
      "You have decodr session\n"
     ]
    }
   ],
   "source": [
    "day1=\"monday\"\n",
    "day2=\"sunday\"\n",
    "if day1==\"saturday\" or day2==\"sunday\":\n",
    "    print(\"You have decodr session\")\n",
    "elif (day1==\"sunday\") or (day2==\"saturday\"):\n",
    "    print (\"You have decodr session\")\n",
    "else:\n",
    "    print(\"Go with recorded session\")"
   ]
  },
  {
   "cell_type": "code",
   "execution_count": 57,
   "id": "2d511359",
   "metadata": {},
   "outputs": [
    {
     "name": "stdout",
     "output_type": "stream",
     "text": [
      "10 is divisible by either 3 or 5\n"
     ]
    }
   ],
   "source": [
    "a = 10\n",
    "if not a:\n",
    "    print(\"Boolean value of a is True\")\n",
    "else:\n",
    "    print(\"10 is divisible by either 3 or 5\")"
   ]
  },
  {
   "cell_type": "code",
   "execution_count": 102,
   "id": "10d9826e",
   "metadata": {},
   "outputs": [
    {
     "name": "stdout",
     "output_type": "stream",
     "text": [
      "a is greater and b equal\n"
     ]
    }
   ],
   "source": [
    "a=10\n",
    "b=10\n",
    "if a==b and a>=b:\n",
    "    print(\"a is greater and b equal\")\n",
    "elif not(a==b and a>=b):\n",
    "    print(\"false\")"
   ]
  },
  {
   "cell_type": "code",
   "execution_count": 108,
   "id": "0c790ccc",
   "metadata": {},
   "outputs": [
    {
     "name": "stdout",
     "output_type": "stream",
     "text": [
      "str1 not palindrome\n"
     ]
    }
   ],
   "source": [
    "str1=\"manju\"\n",
    "str2=reversed(str1)\n",
    "if str1 == str2 :\n",
    "     print(\"str1 is palindrome\")\n",
    "else :\n",
    "     print(\"str1 not palindrome\")"
   ]
  },
  {
   "cell_type": "markdown",
   "id": "8e290a20",
   "metadata": {},
   "source": [
    "### python loops"
   ]
  },
  {
   "cell_type": "code",
   "execution_count": 62,
   "id": "8b8fcf6a",
   "metadata": {},
   "outputs": [
    {
     "name": "stdout",
     "output_type": "stream",
     "text": [
      "Apple\n",
      "Mango\n",
      "Cherries\n",
      "Banana\n"
     ]
    }
   ],
   "source": [
    "fruits=[\"Apple\",\"Mango\",\"Cherries\",\"Banana\"]\n",
    "for x in fruits:\n",
    "    print(x)"
   ]
  },
  {
   "cell_type": "code",
   "execution_count": 63,
   "id": "45bd9aa4",
   "metadata": {},
   "outputs": [
    {
     "name": "stdout",
     "output_type": "stream",
     "text": [
      "m\n",
      "a\n",
      "n\n",
      "j\n",
      "u\n",
      "l\n",
      "a\n"
     ]
    }
   ],
   "source": [
    "for x in \"manjula\":\n",
    "    print(x)"
   ]
  },
  {
   "cell_type": "code",
   "execution_count": 64,
   "id": "87fdc0ce",
   "metadata": {},
   "outputs": [
    {
     "name": "stdout",
     "output_type": "stream",
     "text": [
      "Apple\n",
      "Mango\n",
      "Cherries\n"
     ]
    }
   ],
   "source": [
    "### break statement\n",
    "fruits=[\"Apple\",\"Mango\",\"Cherries\",\"Banana\"]\n",
    "for x in fruits:\n",
    "    print(x)\n",
    "    if x==\"Cherries\":\n",
    "        break"
   ]
  },
  {
   "cell_type": "code",
   "execution_count": 66,
   "id": "7d80984d",
   "metadata": {},
   "outputs": [
    {
     "name": "stdout",
     "output_type": "stream",
     "text": [
      "Apple\n",
      "Mango\n"
     ]
    }
   ],
   "source": [
    "fruits=[\"Apple\",\"Mango\",\"Cherries\",\"Banana\"]\n",
    "for x in fruits:\n",
    "        if x==\"Cherries\":\n",
    "            break\n",
    "        print(x)"
   ]
  },
  {
   "cell_type": "code",
   "execution_count": 67,
   "id": "3e8afb13",
   "metadata": {},
   "outputs": [
    {
     "name": "stdout",
     "output_type": "stream",
     "text": [
      "0\n",
      "1\n",
      "2\n",
      "3\n",
      "4\n",
      "5\n",
      "6\n",
      "7\n",
      "8\n",
      "9\n"
     ]
    }
   ],
   "source": [
    "for x in range(10):\n",
    "    print(x)"
   ]
  },
  {
   "cell_type": "code",
   "execution_count": 68,
   "id": "09fae7b3",
   "metadata": {},
   "outputs": [
    {
     "name": "stdout",
     "output_type": "stream",
     "text": [
      "5\n",
      "6\n",
      "7\n",
      "8\n",
      "9\n"
     ]
    }
   ],
   "source": [
    "for x in range(5,10):\n",
    "    print(x)"
   ]
  },
  {
   "cell_type": "code",
   "execution_count": 70,
   "id": "6d64bc99",
   "metadata": {},
   "outputs": [
    {
     "name": "stdout",
     "output_type": "stream",
     "text": [
      "m\n",
      "a\n",
      "n\n"
     ]
    }
   ],
   "source": [
    "for name in\"manju\":\n",
    "    if name==\"j\":\n",
    "        break\n",
    "    print(name)"
   ]
  },
  {
   "cell_type": "code",
   "execution_count": 71,
   "id": "775049ff",
   "metadata": {},
   "outputs": [
    {
     "name": "stdout",
     "output_type": "stream",
     "text": [
      "m\n",
      "a\n",
      "n\n",
      "u\n"
     ]
    }
   ],
   "source": [
    "for name in\"manju\":\n",
    "    if name==\"j\":\n",
    "        continue\n",
    "    print(name)"
   ]
  },
  {
   "cell_type": "code",
   "execution_count": 74,
   "id": "23e52f9e",
   "metadata": {},
   "outputs": [
    {
     "name": "stdout",
     "output_type": "stream",
     "text": [
      "Pani\n",
      "Counter is 0\n",
      "sri\n",
      "Counter is 1\n",
      "manju\n",
      "Counter is 2\n"
     ]
    }
   ],
   "source": [
    "students = [\"Pani\", \"sri\", \"manju\", \"devi\"]\n",
    "\n",
    "for student in range(0, len(students)):\n",
    "    if student == 3:\n",
    "        break\n",
    "    else:\n",
    "        print(students[student])\n",
    "\n",
    "    print(\"Counter is \" + str(student))"
   ]
  },
  {
   "cell_type": "code",
   "execution_count": 75,
   "id": "68169d16",
   "metadata": {},
   "outputs": [
    {
     "name": "stdout",
     "output_type": "stream",
     "text": [
      "mon\n",
      "tue\n",
      "wed\n",
      "thur\n"
     ]
    }
   ],
   "source": [
    "days=['mon','tue','wed','thur','fri','sat','sun']\n",
    "for x in days:\n",
    "    if x =='fri':\n",
    "        break\n",
    "    print(x)"
   ]
  },
  {
   "cell_type": "markdown",
   "id": "146b58e3",
   "metadata": {},
   "source": [
    "## while loops"
   ]
  },
  {
   "cell_type": "code",
   "execution_count": 77,
   "id": "a1337e15",
   "metadata": {},
   "outputs": [
    {
     "name": "stdout",
     "output_type": "stream",
     "text": [
      "Addition is: 120\n"
     ]
    }
   ],
   "source": [
    "num=15\n",
    "addition=0\n",
    "i=1\n",
    "while i<=num:\n",
    "    addition=addition+i\n",
    "    i=i+1\n",
    "print(\"Addition is:\",addition)"
   ]
  },
  {
   "cell_type": "markdown",
   "id": "dfa6dbf2",
   "metadata": {},
   "source": [
    "## for loop"
   ]
  },
  {
   "cell_type": "code",
   "execution_count": 78,
   "id": "ce154ee8",
   "metadata": {},
   "outputs": [
    {
     "name": "stdout",
     "output_type": "stream",
     "text": [
      "Addition is: 120\n"
     ]
    }
   ],
   "source": [
    "number=range(1,16)\n",
    "addition=0\n",
    "i=1\n",
    "for i in number:\n",
    "    addition=addition+i\n",
    "    i=i+1\n",
    "print(\"Addition is:\",addition)"
   ]
  },
  {
   "cell_type": "markdown",
   "id": "f734fbec",
   "metadata": {},
   "source": [
    "### break"
   ]
  },
  {
   "cell_type": "code",
   "execution_count": 79,
   "id": "6cb76722",
   "metadata": {},
   "outputs": [
    {
     "name": "stdout",
     "output_type": "stream",
     "text": [
      "d\n",
      "a\n",
      "t\n",
      "a\n",
      "S\n",
      "c\n",
      "i\n",
      "The for loop stopped executing\n"
     ]
    }
   ],
   "source": [
    "text=\"dataScience\"\n",
    "for letter in text:\n",
    "    if letter==\"e\":\n",
    "        break\n",
    "    print(letter)\n",
    "print(\"The for loop stopped executing\")"
   ]
  },
  {
   "cell_type": "code",
   "execution_count": 80,
   "id": "74b5783c",
   "metadata": {},
   "outputs": [
    {
     "name": "stdout",
     "output_type": "stream",
     "text": [
      "d\n",
      "a\n",
      "t\n",
      "a\n",
      "S\n",
      "c\n",
      "i\n",
      "The loop leave a space here\n",
      "n\n",
      "c\n",
      "The loop leave a space here\n"
     ]
    }
   ],
   "source": [
    "text=\"dataScience\"\n",
    "for letter in text:\n",
    "    if letter==\"e\":\n",
    "        print(\"The loop leave a space here\")\n",
    "        continue\n",
    "    print(letter)"
   ]
  },
  {
   "cell_type": "code",
   "execution_count": 92,
   "id": "2cbfda8e",
   "metadata": {},
   "outputs": [
    {
     "name": "stdout",
     "output_type": "stream",
     "text": [
      "1 \n",
      "\n",
      "2 2 \n",
      "\n",
      "3 3 3 \n",
      "\n",
      "4 4 4 4 \n",
      "\n",
      "5 5 5 5 5 \n",
      "\n"
     ]
    }
   ],
   "source": [
    "levels=5\n",
    "for level in range(1,levels+1):\n",
    "    for num in range(level):\n",
    "        print(level,end=\" \")\n",
    "        \n",
    "    print(\"\\n\")"
   ]
  },
  {
   "cell_type": "code",
   "execution_count": 91,
   "id": "a103b976",
   "metadata": {},
   "outputs": [
    {
     "name": "stdout",
     "output_type": "stream",
     "text": [
      "1 \n",
      "2 2 \n"
     ]
    }
   ],
   "source": [
    "n=2\n",
    "for i in range(1,n+1):\n",
    "    for j in range(i):\n",
    "        print(i,end=\" \")\n",
    "    print()"
   ]
  },
  {
   "cell_type": "code",
   "execution_count": 90,
   "id": "b8697f2d",
   "metadata": {},
   "outputs": [
    {
     "name": "stdout",
     "output_type": "stream",
     "text": [
      "* \n",
      "\n",
      "* * \n",
      "\n",
      "* * * \n",
      "\n",
      "* * * * \n",
      "\n",
      "* * * * * \n",
      "\n",
      "* * * * * * \n",
      "\n",
      "* * * * * * * \n",
      "\n",
      "* * * * * * * * \n",
      "\n",
      "* * * * * * * * * \n",
      "\n"
     ]
    }
   ],
   "source": [
    "rows = 9 \n",
    "for i in range(rows):\n",
    "    for j in range(i+1):\n",
    "        print(\"* \", end=\"\")\n",
    "    print(\"\\n\")"
   ]
  },
  {
   "cell_type": "code",
   "execution_count": 88,
   "id": "39b13f36",
   "metadata": {},
   "outputs": [
    {
     "name": "stdout",
     "output_type": "stream",
     "text": [
      "1\n",
      "22\n",
      "333\n",
      "4444\n",
      "55555\n",
      "666666\n",
      "7777777\n"
     ]
    }
   ],
   "source": [
    "n =7\n",
    "for i in range(1,n+1):\n",
    "    for j in range(1, i+1):\n",
    "        print(i, end=\"\")\n",
    "    print()"
   ]
  },
  {
   "cell_type": "code",
   "execution_count": null,
   "id": "5af6d75c",
   "metadata": {},
   "outputs": [],
   "source": [
    "def add(x, y):\n",
    "    return (x+y)\n",
    "  \n",
    "def subtract(x, y):\n",
    "    return (x-y)"
   ]
  }
 ],
 "metadata": {
  "kernelspec": {
   "display_name": "Python 3 (ipykernel)",
   "language": "python",
   "name": "python3"
  },
  "language_info": {
   "codemirror_mode": {
    "name": "ipython",
    "version": 3
   },
   "file_extension": ".py",
   "mimetype": "text/x-python",
   "name": "python",
   "nbconvert_exporter": "python",
   "pygments_lexer": "ipython3",
   "version": "3.9.12"
  }
 },
 "nbformat": 4,
 "nbformat_minor": 5
}
