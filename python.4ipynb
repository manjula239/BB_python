{
 "cells": [
  {
   "cell_type": "code",
   "execution_count": 1,
   "id": "d1dccc99",
   "metadata": {},
   "outputs": [
    {
     "name": "stdout",
     "output_type": "stream",
     "text": [
      "hello world\n"
     ]
    }
   ],
   "source": [
    "print('hello world') #string should be written in double/single inverted comma"
   ]
  },
  {
   "cell_type": "code",
   "execution_count": 3,
   "id": "585cb04d",
   "metadata": {},
   "outputs": [
    {
     "data": {
      "text/plain": [
       "'hello world'"
      ]
     },
     "execution_count": 3,
     "metadata": {},
     "output_type": "execute_result"
    }
   ],
   "source": [
    "x=(\"hello world\")\n",
    "x"
   ]
  },
  {
   "cell_type": "code",
   "execution_count": 4,
   "id": "0eb07d8f",
   "metadata": {},
   "outputs": [
    {
     "data": {
      "text/plain": [
       "str"
      ]
     },
     "execution_count": 4,
     "metadata": {},
     "output_type": "execute_result"
    }
   ],
   "source": [
    "type(x)"
   ]
  },
  {
   "cell_type": "code",
   "execution_count": null,
   "id": "7ef54b7f",
   "metadata": {},
   "outputs": [],
   "source": [
    "x=10\n",
    "x"
   ]
  },
  {
   "cell_type": "code",
   "execution_count": 7,
   "id": "8eb0980c",
   "metadata": {},
   "outputs": [
    {
     "data": {
      "text/plain": [
       "str"
      ]
     },
     "execution_count": 7,
     "metadata": {},
     "output_type": "execute_result"
    }
   ],
   "source": [
    "type(x) #int-no decimal point"
   ]
  },
  {
   "cell_type": "code",
   "execution_count": 8,
   "id": "579b19f5",
   "metadata": {},
   "outputs": [
    {
     "data": {
      "text/plain": [
       "float"
      ]
     },
     "execution_count": 8,
     "metadata": {},
     "output_type": "execute_result"
    }
   ],
   "source": [
    "x=10.5 #float-deciml point\n",
    "type(x)"
   ]
  },
  {
   "cell_type": "code",
   "execution_count": 9,
   "id": "938697b6",
   "metadata": {},
   "outputs": [
    {
     "name": "stdout",
     "output_type": "stream",
     "text": [
      "<class 'float'>\n"
     ]
    }
   ],
   "source": [
    "print(type(x))"
   ]
  },
  {
   "cell_type": "code",
   "execution_count": 10,
   "id": "340ab17c",
   "metadata": {},
   "outputs": [
    {
     "data": {
      "text/plain": [
       "complex"
      ]
     },
     "execution_count": 10,
     "metadata": {},
     "output_type": "execute_result"
    }
   ],
   "source": [
    "x=1j\n",
    "type(x)"
   ]
  },
  {
   "cell_type": "code",
   "execution_count": 11,
   "id": "b2962d28",
   "metadata": {},
   "outputs": [
    {
     "data": {
      "text/plain": [
       "complex"
      ]
     },
     "execution_count": 11,
     "metadata": {},
     "output_type": "execute_result"
    }
   ],
   "source": [
    "x=3-4j\n",
    "type(x)"
   ]
  },
  {
   "cell_type": "code",
   "execution_count": 12,
   "id": "11b10ad7",
   "metadata": {},
   "outputs": [
    {
     "ename": "SyntaxError",
     "evalue": "invalid syntax (1926337644.py, line 1)",
     "output_type": "error",
     "traceback": [
      "\u001b[1;36m  Input \u001b[1;32mIn [12]\u001b[1;36m\u001b[0m\n\u001b[1;33m    x=2+4i\u001b[0m\n\u001b[1;37m         ^\u001b[0m\n\u001b[1;31mSyntaxError\u001b[0m\u001b[1;31m:\u001b[0m invalid syntax\n"
     ]
    }
   ],
   "source": [
    "x=2+4i #syntaxError:invalid syntax(complex number should be written with i)\n",
    "type(x)"
   ]
  },
  {
   "cell_type": "code",
   "execution_count": 13,
   "id": "3aa93d29",
   "metadata": {},
   "outputs": [
    {
     "name": "stdout",
     "output_type": "stream",
     "text": [
      "(2+4j) <class 'complex'>\n"
     ]
    }
   ],
   "source": [
    "x=2+4j\n",
    "print(x,type(x))"
   ]
  },
  {
   "cell_type": "markdown",
   "id": "34363c7e",
   "metadata": {},
   "source": [
    "x=10\n",
    "x,type(x)"
   ]
  },
  {
   "cell_type": "code",
   "execution_count": 15,
   "id": "cc690d67",
   "metadata": {},
   "outputs": [
    {
     "data": {
      "text/plain": [
       "(10, int)"
      ]
     },
     "execution_count": 15,
     "metadata": {},
     "output_type": "execute_result"
    }
   ],
   "source": [
    "x=10\n",
    "x,type(x)"
   ]
  },
  {
   "cell_type": "code",
   "execution_count": 16,
   "id": "813ebc6f",
   "metadata": {},
   "outputs": [
    {
     "data": {
      "text/plain": [
       "(3.4, float)"
      ]
     },
     "execution_count": 16,
     "metadata": {},
     "output_type": "execute_result"
    }
   ],
   "source": [
    "x=3.4\n",
    "x,type(x)"
   ]
  },
  {
   "cell_type": "code",
   "execution_count": 17,
   "id": "da325f93",
   "metadata": {},
   "outputs": [
    {
     "data": {
      "text/plain": [
       "list"
      ]
     },
     "execution_count": 17,
     "metadata": {},
     "output_type": "execute_result"
    }
   ],
   "source": [
    "x=[\"apple\",\"banana\",\"cherry\"]\n",
    "type(x)"
   ]
  },
  {
   "cell_type": "code",
   "execution_count": 18,
   "id": "a5936d51",
   "metadata": {},
   "outputs": [
    {
     "data": {
      "text/plain": [
       "list"
      ]
     },
     "execution_count": 18,
     "metadata": {},
     "output_type": "execute_result"
    }
   ],
   "source": [
    "y=[1,2,3]\n",
    "type(y)"
   ]
  },
  {
   "cell_type": "code",
   "execution_count": 19,
   "id": "3af1acd7",
   "metadata": {},
   "outputs": [
    {
     "data": {
      "text/plain": [
       "list"
      ]
     },
     "execution_count": 19,
     "metadata": {},
     "output_type": "execute_result"
    }
   ],
   "source": [
    "z=[1.2,5,1-2j,\"water\"]\n",
    "type(z)"
   ]
  },
  {
   "cell_type": "code",
   "execution_count": 20,
   "id": "9000f30a",
   "metadata": {},
   "outputs": [
    {
     "data": {
      "text/plain": [
       "tuple"
      ]
     },
     "execution_count": 20,
     "metadata": {},
     "output_type": "execute_result"
    }
   ],
   "source": [
    "x=(\"apple\",\"banana\",\"cherry\")\n",
    "type(x)"
   ]
  },
  {
   "cell_type": "code",
   "execution_count": 21,
   "id": "1f3dbc6a",
   "metadata": {},
   "outputs": [
    {
     "data": {
      "text/plain": [
       "tuple"
      ]
     },
     "execution_count": 21,
     "metadata": {},
     "output_type": "execute_result"
    }
   ],
   "source": [
    "z=(1.2,5,1-2j,\"water\")\n",
    "type(z)"
   ]
  },
  {
   "cell_type": "code",
   "execution_count": 22,
   "id": "9893aab3",
   "metadata": {},
   "outputs": [
    {
     "data": {
      "text/plain": [
       "dict"
      ]
     },
     "execution_count": 22,
     "metadata": {},
     "output_type": "execute_result"
    }
   ],
   "source": [
    "x={\"name\":\"john\",\"age\":36} #dictionary\n",
    "type(x)"
   ]
  },
  {
   "cell_type": "code",
   "execution_count": 23,
   "id": "dc22cfaf",
   "metadata": {},
   "outputs": [
    {
     "name": "stdout",
     "output_type": "stream",
     "text": [
      "{'name': 'john', 'age': 36}\n"
     ]
    }
   ],
   "source": [
    "print(x)"
   ]
  },
  {
   "cell_type": "code",
   "execution_count": 24,
   "id": "ac7cf6c9",
   "metadata": {},
   "outputs": [
    {
     "data": {
      "text/plain": [
       "set"
      ]
     },
     "execution_count": 24,
     "metadata": {},
     "output_type": "execute_result"
    }
   ],
   "source": [
    "x={\"apple\",\"banana\",\"cherry\"}\n",
    "type(x)"
   ]
  },
  {
   "cell_type": "code",
   "execution_count": 25,
   "id": "7cb7ab2b",
   "metadata": {},
   "outputs": [
    {
     "data": {
      "text/plain": [
       "{1, 2, 3, 6, 8, 9}"
      ]
     },
     "execution_count": 25,
     "metadata": {},
     "output_type": "execute_result"
    }
   ],
   "source": [
    "x={1,6,3,8,2,9,6}\n",
    "x"
   ]
  },
  {
   "cell_type": "code",
   "execution_count": 26,
   "id": "3de559a8",
   "metadata": {},
   "outputs": [
    {
     "data": {
      "text/plain": [
       "{1, 2, 22, 30, 4, 4.2, 5, 65, 67, 'ab', 'ad', 'bc', 'c'}"
      ]
     },
     "execution_count": 26,
     "metadata": {},
     "output_type": "execute_result"
    }
   ],
   "source": [
    "x={1,2,5,4,22,4.2,30,67,65,'ab','ad','c','bc'}\n",
    "x"
   ]
  },
  {
   "cell_type": "code",
   "execution_count": 27,
   "id": "1cb829ba",
   "metadata": {},
   "outputs": [
    {
     "data": {
      "text/plain": [
       "bool"
      ]
     },
     "execution_count": 27,
     "metadata": {},
     "output_type": "execute_result"
    }
   ],
   "source": [
    "x=True\n",
    "type(x)"
   ]
  },
  {
   "cell_type": "code",
   "execution_count": 28,
   "id": "d1f8ee29",
   "metadata": {},
   "outputs": [
    {
     "data": {
      "text/plain": [
       "bool"
      ]
     },
     "execution_count": 28,
     "metadata": {},
     "output_type": "execute_result"
    }
   ],
   "source": [
    "x=False\n",
    "type(x)"
   ]
  },
  {
   "cell_type": "code",
   "execution_count": 29,
   "id": "ee9ec3e1",
   "metadata": {},
   "outputs": [
    {
     "data": {
      "text/plain": [
       "str"
      ]
     },
     "execution_count": 29,
     "metadata": {},
     "output_type": "execute_result"
    }
   ],
   "source": [
    "a=\"manju\"\n",
    "type(a)"
   ]
  },
  {
   "cell_type": "code",
   "execution_count": 30,
   "id": "ebc9a651",
   "metadata": {},
   "outputs": [
    {
     "data": {
      "text/plain": [
       "float"
      ]
     },
     "execution_count": 30,
     "metadata": {},
     "output_type": "execute_result"
    }
   ],
   "source": [
    "b=5.2\n",
    "type(b)"
   ]
  },
  {
   "cell_type": "code",
   "execution_count": 31,
   "id": "a465f74f",
   "metadata": {},
   "outputs": [
    {
     "data": {
      "text/plain": [
       "int"
      ]
     },
     "execution_count": 31,
     "metadata": {},
     "output_type": "execute_result"
    }
   ],
   "source": [
    "c=3\n",
    "type(c)"
   ]
  },
  {
   "cell_type": "code",
   "execution_count": 32,
   "id": "9f81dfc9",
   "metadata": {},
   "outputs": [
    {
     "data": {
      "text/plain": [
       "int"
      ]
     },
     "execution_count": 32,
     "metadata": {},
     "output_type": "execute_result"
    }
   ],
   "source": [
    "c=33\n",
    "type(c)"
   ]
  },
  {
   "cell_type": "code",
   "execution_count": 1,
   "id": "7ab6fd60",
   "metadata": {},
   "outputs": [
    {
     "data": {
      "text/plain": [
       "complex"
      ]
     },
     "execution_count": 1,
     "metadata": {},
     "output_type": "execute_result"
    }
   ],
   "source": [
    "d=2+3j\n",
    "type(d)"
   ]
  },
  {
   "cell_type": "code",
   "execution_count": 7,
   "id": "46a1d92f",
   "metadata": {},
   "outputs": [
    {
     "data": {
      "text/plain": [
       "10"
      ]
     },
     "execution_count": 7,
     "metadata": {},
     "output_type": "execute_result"
    }
   ],
   "source": [
    "x=10   #int\n",
    "y=3.999999   #float\n",
    "z=1-3j    #complex\n",
    "x\n"
   ]
  },
  {
   "cell_type": "code",
   "execution_count": 8,
   "id": "e0e1ff9d",
   "metadata": {},
   "outputs": [
    {
     "data": {
      "text/plain": [
       "10.0"
      ]
     },
     "execution_count": 8,
     "metadata": {},
     "output_type": "execute_result"
    }
   ],
   "source": [
    "#convert from int to float:\n",
    "a=float(x) #float(10)  .we expect 10.0\n",
    "a"
   ]
  },
  {
   "cell_type": "code",
   "execution_count": 9,
   "id": "d8e44846",
   "metadata": {},
   "outputs": [
    {
     "data": {
      "text/plain": [
       "3"
      ]
     },
     "execution_count": 9,
     "metadata": {},
     "output_type": "execute_result"
    }
   ],
   "source": [
    "#convert from float to int:\n",
    "b=int(y)\n",
    "b"
   ]
  },
  {
   "cell_type": "code",
   "execution_count": 10,
   "id": "8a8a5a1b",
   "metadata": {},
   "outputs": [
    {
     "data": {
      "text/plain": [
       "(10+0j)"
      ]
     },
     "execution_count": 10,
     "metadata": {},
     "output_type": "execute_result"
    }
   ],
   "source": [
    "#convert from int to complex:\n",
    "c=complex(x)\n",
    "c"
   ]
  },
  {
   "cell_type": "code",
   "execution_count": 11,
   "id": "6c15468e",
   "metadata": {},
   "outputs": [
    {
     "data": {
      "text/plain": [
       "(3.999999+0j)"
      ]
     },
     "execution_count": 11,
     "metadata": {},
     "output_type": "execute_result"
    }
   ],
   "source": [
    "d=complex(y)\n",
    "d"
   ]
  },
  {
   "cell_type": "code",
   "execution_count": 12,
   "id": "b8b3efd4",
   "metadata": {},
   "outputs": [
    {
     "data": {
      "text/plain": [
       "(10+0j)"
      ]
     },
     "execution_count": 12,
     "metadata": {},
     "output_type": "execute_result"
    }
   ],
   "source": [
    "m=complex(x)\n",
    "m"
   ]
  },
  {
   "cell_type": "code",
   "execution_count": 13,
   "id": "87348708",
   "metadata": {},
   "outputs": [
    {
     "data": {
      "text/plain": [
       "10.0"
      ]
     },
     "execution_count": 13,
     "metadata": {},
     "output_type": "execute_result"
    }
   ],
   "source": [
    "n=float(x)\n",
    "n"
   ]
  },
  {
   "cell_type": "code",
   "execution_count": 14,
   "id": "a5a97490",
   "metadata": {},
   "outputs": [
    {
     "data": {
      "text/plain": [
       "10"
      ]
     },
     "execution_count": 14,
     "metadata": {},
     "output_type": "execute_result"
    }
   ],
   "source": [
    "o=int(x)\n",
    "o"
   ]
  },
  {
   "cell_type": "code",
   "execution_count": 15,
   "id": "379876e2",
   "metadata": {},
   "outputs": [
    {
     "data": {
      "text/plain": [
       "'10'"
      ]
     },
     "execution_count": 15,
     "metadata": {},
     "output_type": "execute_result"
    }
   ],
   "source": [
    "p=str(x)\n",
    "p"
   ]
  },
  {
   "cell_type": "code",
   "execution_count": 16,
   "id": "7bb36252",
   "metadata": {},
   "outputs": [
    {
     "data": {
      "text/plain": [
       "True"
      ]
     },
     "execution_count": 16,
     "metadata": {},
     "output_type": "execute_result"
    }
   ],
   "source": [
    "q=bool(x)\n",
    "q"
   ]
  },
  {
   "cell_type": "code",
   "execution_count": 17,
   "id": "be0ec999",
   "metadata": {},
   "outputs": [
    {
     "data": {
      "text/plain": [
       "'3.9999999'"
      ]
     },
     "execution_count": 17,
     "metadata": {},
     "output_type": "execute_result"
    }
   ],
   "source": [
    "y=3.9999999\n",
    "str(y)"
   ]
  },
  {
   "cell_type": "code",
   "execution_count": 18,
   "id": "20fa7cde",
   "metadata": {},
   "outputs": [
    {
     "data": {
      "text/plain": [
       "(3.9999999+0j)"
      ]
     },
     "execution_count": 18,
     "metadata": {},
     "output_type": "execute_result"
    }
   ],
   "source": [
    "y=3.9999999\n",
    "complex(y)"
   ]
  },
  {
   "cell_type": "code",
   "execution_count": 19,
   "id": "0b96bdfa",
   "metadata": {},
   "outputs": [
    {
     "data": {
      "text/plain": [
       "3"
      ]
     },
     "execution_count": 19,
     "metadata": {},
     "output_type": "execute_result"
    }
   ],
   "source": [
    "y=3.99999\n",
    "int(y)"
   ]
  },
  {
   "cell_type": "code",
   "execution_count": 20,
   "id": "11864a54",
   "metadata": {},
   "outputs": [
    {
     "data": {
      "text/plain": [
       "True"
      ]
     },
     "execution_count": 20,
     "metadata": {},
     "output_type": "execute_result"
    }
   ],
   "source": [
    "y=3.999999\n",
    "bool(y)"
   ]
  },
  {
   "cell_type": "code",
   "execution_count": null,
   "id": "b8f349c7",
   "metadata": {},
   "outputs": [],
   "source": [
    "z=1-2j"
   ]
  },
  {
   "cell_type": "code",
   "execution_count": 21,
   "id": "5ce6d17b",
   "metadata": {},
   "outputs": [
    {
     "data": {
      "text/plain": [
       "(1-3j)"
      ]
     },
     "execution_count": 21,
     "metadata": {},
     "output_type": "execute_result"
    }
   ],
   "source": [
    "complex(z)"
   ]
  },
  {
   "cell_type": "code",
   "execution_count": 22,
   "id": "df976424",
   "metadata": {},
   "outputs": [
    {
     "data": {
      "text/plain": [
       "'(1-3j)'"
      ]
     },
     "execution_count": 22,
     "metadata": {},
     "output_type": "execute_result"
    }
   ],
   "source": [
    "str(z)"
   ]
  },
  {
   "cell_type": "code",
   "execution_count": 23,
   "id": "8affdea5",
   "metadata": {},
   "outputs": [
    {
     "ename": "TypeError",
     "evalue": "can't convert complex to int",
     "output_type": "error",
     "traceback": [
      "\u001b[1;31m---------------------------------------------------------------------------\u001b[0m",
      "\u001b[1;31mTypeError\u001b[0m                                 Traceback (most recent call last)",
      "Input \u001b[1;32mIn [23]\u001b[0m, in \u001b[0;36m<cell line: 1>\u001b[1;34m()\u001b[0m\n\u001b[1;32m----> 1\u001b[0m \u001b[38;5;28;43mint\u001b[39;49m\u001b[43m(\u001b[49m\u001b[43mz\u001b[49m\u001b[43m)\u001b[49m\n",
      "\u001b[1;31mTypeError\u001b[0m: can't convert complex to int"
     ]
    }
   ],
   "source": [
    "int(z)"
   ]
  },
  {
   "cell_type": "code",
   "execution_count": 24,
   "id": "79740bf6",
   "metadata": {},
   "outputs": [
    {
     "ename": "TypeError",
     "evalue": "can't convert complex to float",
     "output_type": "error",
     "traceback": [
      "\u001b[1;31m---------------------------------------------------------------------------\u001b[0m",
      "\u001b[1;31mTypeError\u001b[0m                                 Traceback (most recent call last)",
      "Input \u001b[1;32mIn [24]\u001b[0m, in \u001b[0;36m<cell line: 1>\u001b[1;34m()\u001b[0m\n\u001b[1;32m----> 1\u001b[0m \u001b[38;5;28;43mfloat\u001b[39;49m\u001b[43m(\u001b[49m\u001b[43mz\u001b[49m\u001b[43m)\u001b[49m\n",
      "\u001b[1;31mTypeError\u001b[0m: can't convert complex to float"
     ]
    }
   ],
   "source": [
    "float(z)"
   ]
  },
  {
   "cell_type": "code",
   "execution_count": null,
   "id": "df8fccb7",
   "metadata": {},
   "outputs": [],
   "source": [
    "# variables are containers for storing values.\n",
    "# python has no command for declaring the variables.\n",
    "# when you assign a value,a variable is created."
   ]
  },
  {
   "cell_type": "code",
   "execution_count": 3,
   "id": "b47b0eea",
   "metadata": {},
   "outputs": [
    {
     "data": {
      "text/plain": [
       "5"
      ]
     },
     "execution_count": 3,
     "metadata": {},
     "output_type": "execute_result"
    }
   ],
   "source": [
    "### Declaring variable\n",
    "x=5\n",
    "x"
   ]
  },
  {
   "cell_type": "code",
   "execution_count": 4,
   "id": "24f67991",
   "metadata": {},
   "outputs": [
    {
     "ename": "NameError",
     "evalue": "name 'manju' is not defined",
     "output_type": "error",
     "traceback": [
      "\u001b[1;31m---------------------------------------------------------------------------\u001b[0m",
      "\u001b[1;31mNameError\u001b[0m                                 Traceback (most recent call last)",
      "Input \u001b[1;32mIn [4]\u001b[0m, in \u001b[0;36m<cell line: 1>\u001b[1;34m()\u001b[0m\n\u001b[1;32m----> 1\u001b[0m name\u001b[38;5;241m=\u001b[39m\u001b[43mmanju\u001b[49m\n",
      "\u001b[1;31mNameError\u001b[0m: name 'manju' is not defined"
     ]
    }
   ],
   "source": [
    "name=manju"
   ]
  },
  {
   "cell_type": "code",
   "execution_count": 5,
   "id": "fd130b35",
   "metadata": {},
   "outputs": [
    {
     "data": {
      "text/plain": [
       "'manju'"
      ]
     },
     "execution_count": 5,
     "metadata": {},
     "output_type": "execute_result"
    }
   ],
   "source": [
    "name=\"manju\"\n",
    "name"
   ]
  },
  {
   "cell_type": "code",
   "execution_count": 6,
   "id": "8592ca43",
   "metadata": {},
   "outputs": [
    {
     "data": {
      "text/plain": [
       "'manju'"
      ]
     },
     "execution_count": 6,
     "metadata": {},
     "output_type": "execute_result"
    }
   ],
   "source": [
    "name_nick=\"manju\"\n",
    "name_nick"
   ]
  },
  {
   "cell_type": "code",
   "execution_count": 7,
   "id": "d26e62e6",
   "metadata": {},
   "outputs": [
    {
     "data": {
      "text/plain": [
       "'dean'"
      ]
     },
     "execution_count": 7,
     "metadata": {},
     "output_type": "execute_result"
    }
   ],
   "source": [
    "_al=\"dean\"\n",
    "_al"
   ]
  },
  {
   "cell_type": "code",
   "execution_count": 8,
   "id": "a5e121b3",
   "metadata": {},
   "outputs": [
    {
     "ename": "SyntaxError",
     "evalue": "cannot assign to operator (342804010.py, line 1)",
     "output_type": "error",
     "traceback": [
      "\u001b[1;36m  Input \u001b[1;32mIn [8]\u001b[1;36m\u001b[0m\n\u001b[1;33m    nick-name=\"manju\"\u001b[0m\n\u001b[1;37m    ^\u001b[0m\n\u001b[1;31mSyntaxError\u001b[0m\u001b[1;31m:\u001b[0m cannot assign to operator\n"
     ]
    }
   ],
   "source": [
    "nick-name=\"manju\"\n",
    "nick-name"
   ]
  },
  {
   "cell_type": "code",
   "execution_count": 9,
   "id": "3517b4d0",
   "metadata": {},
   "outputs": [
    {
     "ename": "SyntaxError",
     "evalue": "cannot assign to operator (3054719481.py, line 1)",
     "output_type": "error",
     "traceback": [
      "\u001b[1;36m  Input \u001b[1;32mIn [9]\u001b[1;36m\u001b[0m\n\u001b[1;33m    nick@name=\"manju\"\u001b[0m\n\u001b[1;37m    ^\u001b[0m\n\u001b[1;31mSyntaxError\u001b[0m\u001b[1;31m:\u001b[0m cannot assign to operator\n"
     ]
    }
   ],
   "source": [
    "nick@name=\"manju\"\n",
    "nick@name"
   ]
  },
  {
   "cell_type": "code",
   "execution_count": 10,
   "id": "3996be8e",
   "metadata": {},
   "outputs": [
    {
     "data": {
      "text/plain": [
       "32"
      ]
     },
     "execution_count": 10,
     "metadata": {},
     "output_type": "execute_result"
    }
   ],
   "source": [
    "age=32\n",
    "age"
   ]
  },
  {
   "cell_type": "code",
   "execution_count": 11,
   "id": "a46def8c",
   "metadata": {},
   "outputs": [
    {
     "ename": "NameError",
     "evalue": "name 'Age' is not defined",
     "output_type": "error",
     "traceback": [
      "\u001b[1;31m---------------------------------------------------------------------------\u001b[0m",
      "\u001b[1;31mNameError\u001b[0m                                 Traceback (most recent call last)",
      "Input \u001b[1;32mIn [11]\u001b[0m, in \u001b[0;36m<cell line: 1>\u001b[1;34m()\u001b[0m\n\u001b[1;32m----> 1\u001b[0m \u001b[43mAge\u001b[49m\n",
      "\u001b[1;31mNameError\u001b[0m: name 'Age' is not defined"
     ]
    }
   ],
   "source": [
    "Age"
   ]
  },
  {
   "cell_type": "code",
   "execution_count": 12,
   "id": "40495172",
   "metadata": {},
   "outputs": [
    {
     "ename": "NameError",
     "evalue": "name 'AGE' is not defined",
     "output_type": "error",
     "traceback": [
      "\u001b[1;31m---------------------------------------------------------------------------\u001b[0m",
      "\u001b[1;31mNameError\u001b[0m                                 Traceback (most recent call last)",
      "Input \u001b[1;32mIn [12]\u001b[0m, in \u001b[0;36m<cell line: 1>\u001b[1;34m()\u001b[0m\n\u001b[1;32m----> 1\u001b[0m \u001b[43mAGE\u001b[49m\n",
      "\u001b[1;31mNameError\u001b[0m: name 'AGE' is not defined"
     ]
    }
   ],
   "source": [
    "AGE"
   ]
  },
  {
   "cell_type": "code",
   "execution_count": null,
   "id": "ac68c3e2",
   "metadata": {},
   "outputs": [],
   "source": [
    "# Rules for declaring variables:\n",
    "#  A variable name must be start with a letter or underscore character\n",
    "#  A variable name can not start with a number\n",
    "#  A variable name can only contain alpha-numeric characters and underscore (A-z,0-9,and_)\n",
    "#  Variable names are case-sensitive (age,Age and AGE are three different variables)"
   ]
  },
  {
   "cell_type": "code",
   "execution_count": null,
   "id": "e935eafe",
   "metadata": {},
   "outputs": [],
   "source": [
    "OPERATORS IN PYTHON"
   ]
  },
  {
   "cell_type": "code",
   "execution_count": 13,
   "id": "47a1523e",
   "metadata": {},
   "outputs": [
    {
     "data": {
      "text/plain": [
       "1.0"
      ]
     },
     "execution_count": 13,
     "metadata": {},
     "output_type": "execute_result"
    }
   ],
   "source": [
    "(34+22-45)/11"
   ]
  },
  {
   "cell_type": "code",
   "execution_count": 14,
   "id": "149f5ad5",
   "metadata": {},
   "outputs": [
    {
     "data": {
      "text/plain": [
       "(23, int)"
      ]
     },
     "execution_count": 14,
     "metadata": {},
     "output_type": "execute_result"
    }
   ],
   "source": [
    "### code implementation for addition arithmetic operations:\n",
    "a=8 # here a stores the value 8\n",
    "b=15 # here b stores the value 15\n",
    "sum=a+b # here the addition operation is performed betwwen two operands and storing the value in variable called sum\n",
    "sum,type(sum)\n",
    "  # it will print the addition of number which was been stored in sum"
   ]
  },
  {
   "cell_type": "markdown",
   "id": "87217d13",
   "metadata": {},
   "source": [
    "#  logical operators\n",
    "Logical operator are used for conditional statements(either true or false)."
   ]
  },
  {
   "cell_type": "code",
   "execution_count": 15,
   "id": "650ab1e0",
   "metadata": {},
   "outputs": [
    {
     "name": "stdout",
     "output_type": "stream",
     "text": [
      "True\n"
     ]
    }
   ],
   "source": [
    "### code implementation for \"and\" operation.\n",
    "x=8\n",
    "print(x>3 and x<10)\n",
    "# returns true because 5 is greater than 3 and 5 is less than 10"
   ]
  },
  {
   "cell_type": "code",
   "execution_count": 16,
   "id": "99d151bc",
   "metadata": {},
   "outputs": [
    {
     "name": "stdout",
     "output_type": "stream",
     "text": [
      "False\n"
     ]
    }
   ],
   "source": [
    "x=10\n",
    "print(x>5 and x>16)"
   ]
  },
  {
   "cell_type": "raw",
   "id": "f3375dc3",
   "metadata": {},
   "source": [
    "x=17\n",
    "print(x>10 and x>16)"
   ]
  },
  {
   "cell_type": "code",
   "execution_count": 18,
   "id": "65fcd650",
   "metadata": {},
   "outputs": [
    {
     "name": "stdout",
     "output_type": "stream",
     "text": [
      "True\n"
     ]
    }
   ],
   "source": [
    "### code implementation for \"or\" operation.\n",
    "x=5\n",
    "print(x>3 or x<4)\n",
    "# returns true because one of the condition is true (5 is greater than 3,but 5 is not less than 4)"
   ]
  },
  {
   "cell_type": "code",
   "execution_count": 19,
   "id": "1d4cff96",
   "metadata": {},
   "outputs": [
    {
     "name": "stdout",
     "output_type": "stream",
     "text": [
      "True\n"
     ]
    }
   ],
   "source": [
    "x=10\n",
    "print(x<20 or x<5)"
   ]
  },
  {
   "cell_type": "code",
   "execution_count": 20,
   "id": "36ac1361",
   "metadata": {},
   "outputs": [
    {
     "name": "stdout",
     "output_type": "stream",
     "text": [
      "True\n"
     ]
    }
   ],
   "source": [
    "x=11\n",
    "print(x<20 or x<5)"
   ]
  },
  {
   "cell_type": "code",
   "execution_count": 21,
   "id": "ae3bf067",
   "metadata": {},
   "outputs": [
    {
     "name": "stdout",
     "output_type": "stream",
     "text": [
      "False\n"
     ]
    }
   ],
   "source": [
    "### code for equal to operator \n",
    "x=5\n",
    "y=3\n",
    "print(x==y)\n",
    "# returns false because 5 is not equal to 3"
   ]
  },
  {
   "cell_type": "code",
   "execution_count": 22,
   "id": "2b05ab27",
   "metadata": {},
   "outputs": [
    {
     "name": "stdout",
     "output_type": "stream",
     "text": [
      "True\n"
     ]
    }
   ],
   "source": [
    "### code for operator than operator\n",
    "x=5\n",
    "y=3\n",
    "print(x>y)\n",
    "# returns true because 5is greater than 3"
   ]
  },
  {
   "cell_type": "markdown",
   "id": "2b1066fd",
   "metadata": {},
   "source": [
    "                            ### Assignment operators\n",
    "                  \n",
    "                  Assignment operators are used to assign values to variables."
   ]
  },
  {
   "cell_type": "code",
   "execution_count": 31,
   "id": "ebeed149",
   "metadata": {},
   "outputs": [
    {
     "data": {
      "text/plain": [
       "1"
      ]
     },
     "execution_count": 31,
     "metadata": {},
     "output_type": "execute_result"
    }
   ],
   "source": [
    "x=5\n",
    "x//=3\n",
    "x"
   ]
  },
  {
   "cell_type": "code",
   "execution_count": 33,
   "id": "ac06d6b0",
   "metadata": {},
   "outputs": [
    {
     "data": {
      "text/plain": [
       "5"
      ]
     },
     "execution_count": 33,
     "metadata": {},
     "output_type": "execute_result"
    }
   ],
   "source": [
    "x=5\n",
    "x!=3\n",
    "x"
   ]
  },
  {
   "cell_type": "code",
   "execution_count": 34,
   "id": "f05c3d01",
   "metadata": {},
   "outputs": [
    {
     "name": "stdout",
     "output_type": "stream",
     "text": [
      "15\n"
     ]
    }
   ],
   "source": [
    "### code for assigning a value to x\n",
    "x=15\n",
    "print(x)"
   ]
  },
  {
   "cell_type": "code",
   "execution_count": 35,
   "id": "8f4af9be",
   "metadata": {},
   "outputs": [
    {
     "name": "stdout",
     "output_type": "stream",
     "text": [
      "11 10\n"
     ]
    }
   ],
   "source": [
    "### code for assigning values to two or more variables at the same time\n",
    "a,c=11,10\n",
    "print(a,c)"
   ]
  },
  {
   "cell_type": "markdown",
   "id": "492c0f2c",
   "metadata": {},
   "source": [
    "# Escape Character"
   ]
  },
  {
   "cell_type": "code",
   "execution_count": 36,
   "id": "650987d8",
   "metadata": {},
   "outputs": [
    {
     "name": "stdout",
     "output_type": "stream",
     "text": [
      "Hello sir,is this vinu's home?\n"
     ]
    }
   ],
   "source": [
    "### To insert characters that are invalid in a string we use an escape character.\n",
    "### An escape character starts with a backslash '\\' then the character you want to insert.\n",
    "### Example:\n",
    "### You will get an error if you use double quotes inside a string that is surrounded by double quotes:\n",
    "intro=\"Hello sir,is this vinu's home?\"\n",
    "print(intro)"
   ]
  },
  {
   "cell_type": "code",
   "execution_count": null,
   "id": "6b8b5ccc",
   "metadata": {},
   "outputs": [],
   "source": [
    "### \\n it is used to add your string in new line"
   ]
  },
  {
   "cell_type": "code",
   "execution_count": 37,
   "id": "9dbe98bc",
   "metadata": {},
   "outputs": [
    {
     "name": "stdout",
     "output_type": "stream",
     "text": [
      "hey raj \n",
      "where are you going?\n"
     ]
    }
   ],
   "source": [
    "parg=\"hey raj \\nwhere are you going?\"\n",
    "print(parg)"
   ]
  },
  {
   "cell_type": "code",
   "execution_count": null,
   "id": "7d0c0487",
   "metadata": {},
   "outputs": [],
   "source": [
    "### \\t: it is used to add tab space in string"
   ]
  },
  {
   "cell_type": "code",
   "execution_count": 38,
   "id": "04f32cfd",
   "metadata": {},
   "outputs": [
    {
     "name": "stdout",
     "output_type": "stream",
     "text": [
      "hey anu \twhere are you going?\n"
     ]
    }
   ],
   "source": [
    "parg=\"hey anu \\twhere are you going?\"\n",
    "print(parg)"
   ]
  },
  {
   "cell_type": "markdown",
   "id": "cf4e15cc",
   "metadata": {},
   "source": [
    " # Format specifier"
   ]
  },
  {
   "cell_type": "code",
   "execution_count": 39,
   "id": "b3dc143e",
   "metadata": {},
   "outputs": [
    {
     "name": "stdout",
     "output_type": "stream",
     "text": [
      "hi,manju!\n"
     ]
    }
   ],
   "source": [
    "### A format spcifier is used during input and output.\n",
    "### It is way to tell the compiler what type of data is in a variable during taking input using print.\n",
    "### %s: it specifies the string.\n",
    "### %d: It specifies the int value.\n",
    "\n",
    "name=\"manju\"\n",
    "print(\"hi,%s!\" %name ) # %s speifies the string"
   ]
  },
  {
   "cell_type": "code",
   "execution_count": 40,
   "id": "993a126a",
   "metadata": {},
   "outputs": [
    {
     "name": "stdout",
     "output_type": "stream",
     "text": [
      "manju ,i will come back at 8 am .\n"
     ]
    }
   ],
   "source": [
    "name=\"manju\"\n",
    "time=8\n",
    "print(\"%s ,i will come back at %d am .\" %(name,time)) # %s spcifies the string and %d specifies the integer value."
   ]
  },
  {
   "cell_type": "code",
   "execution_count": 42,
   "id": "d48ac6e5",
   "metadata": {},
   "outputs": [
    {
     "name": "stdout",
     "output_type": "stream",
     "text": [
      "manju got the marks 75\n"
     ]
    }
   ],
   "source": [
    "name=\"manju\"\n",
    "marks=75\n",
    "print(\"%s got the marks %d\"%(name,marks))"
   ]
  }
 ],
 "metadata": {
  "kernelspec": {
   "display_name": "Python 3 (ipykernel)",
   "language": "python",
   "name": "python3"
  },
  "language_info": {
   "codemirror_mode": {
    "name": "ipython",
    "version": 3
   },
   "file_extension": ".py",
   "mimetype": "text/x-python",
   "name": "python",
   "nbconvert_exporter": "python",
   "pygments_lexer": "ipython3",
   "version": "3.9.12"
  }
 },
 "nbformat": 4,
 "nbformat_minor": 5
}
