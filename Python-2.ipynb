{
 "cells": [
  {
   "cell_type": "markdown",
   "id": "d5af80ea",
   "metadata": {},
   "source": [
    "# Rules for naming variables"
   ]
  },
  {
   "cell_type": "code",
   "execution_count": 4,
   "id": "e10fc082",
   "metadata": {},
   "outputs": [
    {
     "data": {
      "text/plain": [
       "'artificial intelligence and machine learning'"
      ]
     },
     "execution_count": 4,
     "metadata": {},
     "output_type": "execute_result"
    }
   ],
   "source": [
    "course=\"artificial intelligence and machine learning\"\n",
    "course"
   ]
  },
  {
   "cell_type": "code",
   "execution_count": 5,
   "id": "f929c440",
   "metadata": {},
   "outputs": [
    {
     "name": "stdout",
     "output_type": "stream",
     "text": [
      "artificial intelligence and machine learning\n"
     ]
    }
   ],
   "source": [
    "print(course)"
   ]
  },
  {
   "cell_type": "code",
   "execution_count": 6,
   "id": "38da0faa",
   "metadata": {},
   "outputs": [
    {
     "data": {
      "text/plain": [
       "(1, 2, 3, 4, 5)"
      ]
     },
     "execution_count": 6,
     "metadata": {},
     "output_type": "execute_result"
    }
   ],
   "source": [
    "Roll_Nos=1,2,3,4,5\n",
    "Roll_Nos\n"
   ]
  },
  {
   "cell_type": "code",
   "execution_count": 7,
   "id": "fa99ca7b",
   "metadata": {},
   "outputs": [
    {
     "ename": "SyntaxError",
     "evalue": "invalid syntax (316366367.py, line 1)",
     "output_type": "error",
     "traceback": [
      "\u001b[0;36m  Input \u001b[0;32mIn [7]\u001b[0;36m\u001b[0m\n\u001b[0;31m    Roll Nos=1,2,3,4,5\u001b[0m\n\u001b[0m         ^\u001b[0m\n\u001b[0;31mSyntaxError\u001b[0m\u001b[0;31m:\u001b[0m invalid syntax\n"
     ]
    }
   ],
   "source": [
    "Roll Nos=1,2,3,4,5\n",
    "Roll Nos"
   ]
  },
  {
   "cell_type": "markdown",
   "id": "8df78ad6",
   "metadata": {},
   "source": [
    "space is not allowed in variable name"
   ]
  },
  {
   "cell_type": "code",
   "execution_count": 8,
   "id": "f0dfffd0",
   "metadata": {},
   "outputs": [
    {
     "ename": "SyntaxError",
     "evalue": "cannot assign to operator (3213027167.py, line 1)",
     "output_type": "error",
     "traceback": [
      "\u001b[0;36m  Input \u001b[0;32mIn [8]\u001b[0;36m\u001b[0m\n\u001b[0;31m    Roll-Nos=1,2,3,4,5\u001b[0m\n\u001b[0m    ^\u001b[0m\n\u001b[0;31mSyntaxError\u001b[0m\u001b[0;31m:\u001b[0m cannot assign to operator\n"
     ]
    }
   ],
   "source": [
    "Roll-Nos=1,2,3,4,5\n",
    "Roll-Nos"
   ]
  },
  {
   "cell_type": "code",
   "execution_count": 10,
   "id": "55bdcced",
   "metadata": {},
   "outputs": [
    {
     "ename": "SyntaxError",
     "evalue": "cannot assign to operator (750348007.py, line 1)",
     "output_type": "error",
     "traceback": [
      "\u001b[0;36m  Input \u001b[0;32mIn [10]\u001b[0;36m\u001b[0m\n\u001b[0;31m    Roll+Nos=1,2,3,4,5\u001b[0m\n\u001b[0m    ^\u001b[0m\n\u001b[0;31mSyntaxError\u001b[0m\u001b[0;31m:\u001b[0m cannot assign to operator\n"
     ]
    }
   ],
   "source": [
    "Roll+Nos=1,2,3,4,5\n",
    "Roll+Nos"
   ]
  },
  {
   "cell_type": "code",
   "execution_count": 11,
   "id": "59c43271",
   "metadata": {},
   "outputs": [
    {
     "ename": "SyntaxError",
     "evalue": "invalid syntax (3774972907.py, line 2)",
     "output_type": "error",
     "traceback": [
      "\u001b[0;36m  Input \u001b[0;32mIn [11]\u001b[0;36m\u001b[0m\n\u001b[0;31m    Roll.\u001b[0m\n\u001b[0m         ^\u001b[0m\n\u001b[0;31mSyntaxError\u001b[0m\u001b[0;31m:\u001b[0m invalid syntax\n"
     ]
    }
   ],
   "source": [
    "Roll.Nos=1,2,3,4,5\n",
    "Roll.Nos"
   ]
  },
  {
   "cell_type": "code",
   "execution_count": 13,
   "id": "caf98866",
   "metadata": {},
   "outputs": [],
   "source": [
    "#Roll_Nos=1,2,3,4,5\n",
    "#Roll_Nos"
   ]
  },
  {
   "cell_type": "code",
   "execution_count": 14,
   "id": "4c24ab01",
   "metadata": {},
   "outputs": [
    {
     "ename": "SyntaxError",
     "evalue": "invalid syntax (4094095189.py, line 1)",
     "output_type": "error",
     "traceback": [
      "\u001b[0;36m  Input \u001b[0;32mIn [14]\u001b[0;36m\u001b[0m\n\u001b[0;31m    Roll$Nos=1,2,3,4,5\u001b[0m\n\u001b[0m        ^\u001b[0m\n\u001b[0;31mSyntaxError\u001b[0m\u001b[0;31m:\u001b[0m invalid syntax\n"
     ]
    }
   ],
   "source": [
    "Roll$Nos=1,2,3,4,5\n",
    "Roll$Nos"
   ]
  },
  {
   "cell_type": "code",
   "execution_count": 15,
   "id": "99ba73a1",
   "metadata": {},
   "outputs": [
    {
     "data": {
      "text/plain": [
       "(1, 2, 3, 4, 5)"
      ]
     },
     "execution_count": 15,
     "metadata": {},
     "output_type": "execute_result"
    }
   ],
   "source": [
    "_RollNos=1,2,3,4,5\n",
    "_RollNos"
   ]
  },
  {
   "cell_type": "markdown",
   "id": "c696a6c8",
   "metadata": {},
   "source": [
    "##### only allowed special character is underscore"
   ]
  },
  {
   "cell_type": "code",
   "execution_count": 18,
   "id": "e3bcb0d3",
   "metadata": {},
   "outputs": [
    {
     "data": {
      "text/plain": [
       "(1, 2, 3, 4, 5)"
      ]
     },
     "execution_count": 18,
     "metadata": {},
     "output_type": "execute_result"
    }
   ],
   "source": [
    "RollNos9=1,2,3,4,5\n",
    "RollNos9"
   ]
  },
  {
   "cell_type": "markdown",
   "id": "1716a486",
   "metadata": {},
   "source": [
    "#### variable name should not start with a number"
   ]
  },
  {
   "cell_type": "markdown",
   "id": "112c2124",
   "metadata": {},
   "source": [
    "#### variable should start with A-Z,a-z,_"
   ]
  },
  {
   "cell_type": "code",
   "execution_count": 20,
   "id": "76518ef1",
   "metadata": {},
   "outputs": [
    {
     "ename": "NameError",
     "evalue": "name 'Names' is not defined",
     "output_type": "error",
     "traceback": [
      "\u001b[0;31m---------------------------------------------------------------------------\u001b[0m",
      "\u001b[0;31mNameError\u001b[0m                                 Traceback (most recent call last)",
      "Input \u001b[0;32mIn [20]\u001b[0m, in \u001b[0;36m<cell line: 2>\u001b[0;34m()\u001b[0m\n\u001b[1;32m      1\u001b[0m names\u001b[38;5;241m=\u001b[39m\u001b[38;5;124m\"\u001b[39m\u001b[38;5;124msrilakshmi\u001b[39m\u001b[38;5;124m\"\u001b[39m,\u001b[38;5;124m\"\u001b[39m\u001b[38;5;124mpavani\u001b[39m\u001b[38;5;124m\"\u001b[39m,\u001b[38;5;124m\"\u001b[39m\u001b[38;5;124mmanju\u001b[39m\u001b[38;5;124m\"\u001b[39m\n\u001b[0;32m----> 2\u001b[0m \u001b[43mNames\u001b[49m\n",
      "\u001b[0;31mNameError\u001b[0m: name 'Names' is not defined"
     ]
    }
   ],
   "source": [
    "names=\"srilakshmi\",\"pavani\",\"manju\"\n",
    "Names"
   ]
  },
  {
   "cell_type": "markdown",
   "id": "3e8e21db",
   "metadata": {},
   "source": [
    "#### variable name is case sensitive"
   ]
  },
  {
   "cell_type": "markdown",
   "id": "661318d0",
   "metadata": {},
   "source": [
    "# Data types"
   ]
  },
  {
   "cell_type": "code",
   "execution_count": 21,
   "id": "9f11a86b",
   "metadata": {},
   "outputs": [
    {
     "data": {
      "text/plain": [
       "int"
      ]
     },
     "execution_count": 21,
     "metadata": {},
     "output_type": "execute_result"
    }
   ],
   "source": [
    "x=17\n",
    "type(x)"
   ]
  },
  {
   "cell_type": "markdown",
   "id": "c9dc948b",
   "metadata": {},
   "source": [
    "##### int-integer(no decimal point)"
   ]
  },
  {
   "cell_type": "code",
   "execution_count": 22,
   "id": "fd36ca43",
   "metadata": {},
   "outputs": [
    {
     "data": {
      "text/plain": [
       "float"
      ]
     },
     "execution_count": 22,
     "metadata": {},
     "output_type": "execute_result"
    }
   ],
   "source": [
    "x=19.5\n",
    "type(x)"
   ]
  },
  {
   "cell_type": "markdown",
   "id": "3b8611a4",
   "metadata": {},
   "source": [
    "#### float-decimal point"
   ]
  },
  {
   "cell_type": "code",
   "execution_count": 25,
   "id": "89e361a1",
   "metadata": {},
   "outputs": [
    {
     "data": {
      "text/plain": [
       "bool"
      ]
     },
     "execution_count": 25,
     "metadata": {},
     "output_type": "execute_result"
    }
   ],
   "source": [
    "x=True\n",
    "type(x)"
   ]
  },
  {
   "cell_type": "code",
   "execution_count": 27,
   "id": "fa7d7edd",
   "metadata": {},
   "outputs": [
    {
     "data": {
      "text/plain": [
       "bool"
      ]
     },
     "execution_count": 27,
     "metadata": {},
     "output_type": "execute_result"
    }
   ],
   "source": [
    "x=False\n",
    "type(x)"
   ]
  },
  {
   "cell_type": "markdown",
   "id": "68684f92",
   "metadata": {},
   "source": [
    "#### bool-boolean->True/False"
   ]
  },
  {
   "cell_type": "code",
   "execution_count": 29,
   "id": "c455a614",
   "metadata": {},
   "outputs": [
    {
     "data": {
      "text/plain": [
       "str"
      ]
     },
     "execution_count": 29,
     "metadata": {},
     "output_type": "execute_result"
    }
   ],
   "source": [
    "course=\"AIML\"\n",
    "type(course)"
   ]
  },
  {
   "cell_type": "markdown",
   "id": "c7fb2814",
   "metadata": {},
   "source": [
    "#### string-text/character"
   ]
  },
  {
   "cell_type": "code",
   "execution_count": 30,
   "id": "807d1bd7",
   "metadata": {},
   "outputs": [
    {
     "data": {
      "text/plain": [
       "complex"
      ]
     },
     "execution_count": 30,
     "metadata": {},
     "output_type": "execute_result"
    }
   ],
   "source": [
    "y=1-2j\n",
    "type(y)"
   ]
  },
  {
   "cell_type": "code",
   "execution_count": 31,
   "id": "aa0986bd",
   "metadata": {},
   "outputs": [
    {
     "data": {
      "text/plain": [
       "complex"
      ]
     },
     "execution_count": 31,
     "metadata": {},
     "output_type": "execute_result"
    }
   ],
   "source": [
    "y=1-2j\n",
    "type(y)"
   ]
  },
  {
   "cell_type": "markdown",
   "id": "0f350639",
   "metadata": {},
   "source": [
    "#### complex-with j(imaginary)"
   ]
  }
 ],
 "metadata": {
  "kernelspec": {
   "display_name": "Python 3 (ipykernel)",
   "language": "python",
   "name": "python3"
  },
  "language_info": {
   "codemirror_mode": {
    "name": "ipython",
    "version": 3
   },
   "file_extension": ".py",
   "mimetype": "text/x-python",
   "name": "python",
   "nbconvert_exporter": "python",
   "pygments_lexer": "ipython3",
   "version": "3.9.7"
  }
 },
 "nbformat": 4,
 "nbformat_minor": 5
}
